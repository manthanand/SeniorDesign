{
 "cells": [
  {
   "cell_type": "code",
   "execution_count": 252,
   "id": "306e8fe2",
   "metadata": {},
   "outputs": [],
   "source": [
    "# mlp for regression\n",
    "import numpy as np\n",
    "import pandas as pd\n",
    "from sklearn.model_selection import train_test_split\n",
    "from tensorflow import keras\n",
    "from keras import Sequential\n",
    "from keras.layers import Dense\n",
    "from keras.layers import BatchNormalization"
   ]
  },
  {
   "cell_type": "code",
   "execution_count": 253,
   "id": "851ab087",
   "metadata": {},
   "outputs": [],
   "source": [
    "# load the dataset\n",
    "df = pd.read_csv(\"Memory_SolarTrainingData.csv\", index_col=0)"
   ]
  },
  {
   "cell_type": "code",
   "execution_count": 254,
   "id": "55683a2c",
   "metadata": {},
   "outputs": [],
   "source": [
    "df.tail()\n",
    "column_mean = []\n",
    "column_std = []\n",
    "\n",
    "#df_normalized = df.copy()\n",
    "\n",
    "# apply normalization techniques\n",
    "#for column in df_normalized.columns:\n",
    "#    if column != 'Percent Output':\n",
    "#        column_mean.append(df_normalized[column].mean())\n",
    "#        column_std.append(df_normalized[column].std())\n",
    "\n",
    "#        if df_normalized[column].std() == 0:\n",
    "#            df_normalized.loc[:,column] = 0\n",
    "#        else:\n",
    "#            df_normalized[column] = (df_normalized[column] - df_normalized[column].mean()) / df_normalized[column].std()\n",
    "\n",
    "# view normalized data\n"
   ]
  },
  {
   "cell_type": "code",
   "execution_count": 4,
   "id": "264d0296",
   "metadata": {},
   "outputs": [],
   "source": [
    "# split into past, current, and future data\n",
    "pastWeatherAndSupply = df.iloc[:-2].drop(['year', 'day'], axis=1)\n",
    "\n",
    "currentWeather = df.iloc[-2]\n",
    "currentWeather = currentWeather.drop(['Percent Output', 'year', 'day']) #dropping supply column for testing\n",
    "currentWeather = currentWeather.values[:].reshape((1,len(df.iloc[-2])))\n",
    "\n",
    "nextHourWeather = df.iloc[-1]\n",
    "nextHourWeather = nextHourWeather.drop(['Percent Output', 'year', 'day']) #dropping supply column for testing\n",
    "nextHourWeather = nextHourWeather.values[:].reshape((1,len(df.iloc[-1])))"
   ]
  },
  {
   "cell_type": "code",
   "execution_count": 256,
   "id": "e262ac5c",
   "metadata": {},
   "outputs": [],
   "source": [
    "# split into input and output columns\n",
    "X, y = pastWeatherAndSupply.values[:, :-1], pastWeatherAndSupply.values[:, -1]"
   ]
  },
  {
   "cell_type": "code",
   "execution_count": 257,
   "id": "a2de3360",
   "metadata": {},
   "outputs": [
    {
     "name": "stdout",
     "output_type": "stream",
     "text": [
      "(326, 25) (176, 25) (326,) (176,)\n"
     ]
    }
   ],
   "source": [
    "# split into train and test datasets\n",
    "X_train, X_test, y_train, y_test = train_test_split(X, y, test_size=0.35)\n",
    "print(X_train.shape, X_test.shape, y_train.shape, y_test.shape)"
   ]
  },
  {
   "cell_type": "code",
   "execution_count": 258,
   "id": "e8c885ac",
   "metadata": {},
   "outputs": [
    {
     "name": "stdout",
     "output_type": "stream",
     "text": [
      "25\n"
     ]
    }
   ],
   "source": [
    "# determine the number of input features\n",
    "n_features = X_train.shape[1]\n",
    "print(n_features)"
   ]
  },
  {
   "cell_type": "code",
   "execution_count": 259,
   "id": "7c089e0a",
   "metadata": {},
   "outputs": [],
   "source": [
    "# define model\n",
    "model = Sequential()\n",
    "model.add(BatchNormalization(input_shape=(n_features,)))\n",
    "model.add(Dense(12, activation='tanh', kernel_initializer='he_normal'))\n",
    "model.add(Dense(8, activation='selu', kernel_initializer='he_normal'))\n",
    "model.add(Dense(4, activation='relu', kernel_initializer='he_normal'))\n",
    "model.add(Dense(1, activation='tanh', kernel_initializer='he_normal'))"
   ]
  },
  {
   "cell_type": "code",
   "execution_count": 260,
   "id": "d3fb50f2",
   "metadata": {},
   "outputs": [],
   "source": [
    "# compile the model\n",
    "model.compile(optimizer='adam', loss='mse')"
   ]
  },
  {
   "cell_type": "code",
   "execution_count": 261,
   "id": "3928b6f3",
   "metadata": {},
   "outputs": [
    {
     "data": {
      "text/plain": [
       "<keras.callbacks.History at 0x7fe03e3d23a0>"
      ]
     },
     "execution_count": 261,
     "metadata": {},
     "output_type": "execute_result"
    }
   ],
   "source": [
    "# fit the model\n",
    "model.fit(X_train, y_train, epochs=80, batch_size=10, verbose=0)"
   ]
  },
  {
   "cell_type": "code",
   "execution_count": 262,
   "id": "e7152899",
   "metadata": {},
   "outputs": [
    {
     "name": "stdout",
     "output_type": "stream",
     "text": [
      "MSE: 0.008, RMSE: 0.087\n"
     ]
    }
   ],
   "source": [
    "# evaluate the model\n",
    "error = model.evaluate(X_test, y_test, verbose=0)\n",
    "print('MSE: %.3f, RMSE: %.3f' % (error, np.sqrt(error)))"
   ]
  },
  {
   "cell_type": "code",
   "execution_count": 263,
   "id": "87f7eafc",
   "metadata": {},
   "outputs": [
    {
     "name": "stdout",
     "output_type": "stream",
     "text": [
      "1/1 [==============================] - 0s 177ms/step\n",
      "Predicted: 0.605\n",
      "Real: 0.621\n",
      "[[0.02560828]]\n",
      "1/1 [==============================] - 0s 70ms/step\n",
      "Predicted: 0.472\n",
      "Real: 0.416\n",
      "[[0.13434428]]\n"
     ]
    }
   ],
   "source": [
    "# Making a prediction for integration with control code\n",
    "# IMPROVEMENT AREA: Sometimes the model will predict a number greater than 1. This should not happen.\n",
    "current_prediction = model.predict(currentWeather)\n",
    "if (current_prediction < 0):\n",
    "    current_prediction = 0\n",
    "print('Predicted: %.3f' % current_prediction)\n",
    "print('Real: %.3f' % df.iloc[-2][-1])\n",
    "print(abs(df.iloc[-2][-1]-current_prediction)/df.iloc[-2][-1])\n",
    "\n",
    "future_prediction = model.predict(nextHourWeather)\n",
    "if (future_prediction < 0):\n",
    "    future_prediction = 0\n",
    "print('Predicted: %.3f' % future_prediction)\n",
    "print('Real: %.3f' % df.iloc[-1][-1])\n",
    "print(abs(df.iloc[-1][-1]-future_prediction)/df.iloc[-1][-1])"
   ]
  },
  {
   "cell_type": "code",
   "execution_count": 264,
   "id": "74d8dad1",
   "metadata": {},
   "outputs": [],
   "source": [
    "# Return predictions in a list\n",
    "#return([current_prediction, future_prediction])"
   ]
  }
 ],
 "metadata": {
  "kernelspec": {
   "display_name": "ece460h",
   "language": "python",
   "name": "ece460h"
  },
  "language_info": {
   "codemirror_mode": {
    "name": "ipython",
    "version": 3
   },
   "file_extension": ".py",
   "mimetype": "text/x-python",
   "name": "python",
   "nbconvert_exporter": "python",
   "pygments_lexer": "ipython3",
   "version": "3.9.12"
  }
 },
 "nbformat": 4,
 "nbformat_minor": 5
}
