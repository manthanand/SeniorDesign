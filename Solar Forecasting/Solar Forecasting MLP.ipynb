{
 "cells": [
  {
   "cell_type": "code",
   "execution_count": 90,
   "id": "306e8fe2",
   "metadata": {},
   "outputs": [],
   "source": [
    "# mlp for regression\n",
    "from numpy import sqrt\n",
    "from pandas import read_csv\n",
    "from sklearn.model_selection import train_test_split\n",
    "from tensorflow.keras import Sequential\n",
    "from tensorflow.keras.layers import Dense"
   ]
  },
  {
   "cell_type": "code",
   "execution_count": 91,
   "id": "851ab087",
   "metadata": {},
   "outputs": [],
   "source": [
    "# load the dataset\n",
    "df = read_csv(\"Memory_SolarTrainingData.csv\")"
   ]
  },
  {
   "cell_type": "code",
   "execution_count": 92,
   "id": "264d0296",
   "metadata": {},
   "outputs": [],
   "source": [
    "# split into past, current, and future data\n",
    "pastWeatherAndSupply = df.iloc[:-2]\n",
    "\n",
    "currentWeather = df.iloc[-2]\n",
    "currentWeather = currentWeather.drop(['Percent Output']) #dropping supply column for testing\n",
    "currentWeather = currentWeather.values[:].reshape((1,28))\n",
    "\n",
    "nextHourWeather = df.iloc[-1]\n",
    "nextHourWeather = nextHourWeather.drop(['Percent Output']) #dropping supply column for testing\n",
    "nextHourWeather = nextHourWeather.values[:].reshape((1,28))"
   ]
  },
  {
   "cell_type": "code",
   "execution_count": 93,
   "id": "e262ac5c",
   "metadata": {},
   "outputs": [],
   "source": [
    "# split into input and output columns\n",
    "X, y = pastWeatherAndSupply.values[:, :-1], pastWeatherAndSupply.values[:, -1]"
   ]
  },
  {
   "cell_type": "code",
   "execution_count": 94,
   "id": "a2de3360",
   "metadata": {},
   "outputs": [
    {
     "name": "stdout",
     "output_type": "stream",
     "text": [
      "(336, 28) (166, 28) (336,) (166,)\n"
     ]
    }
   ],
   "source": [
    "# split into train and test datasets\n",
    "X_train, X_test, y_train, y_test = train_test_split(X, y, test_size=0.33)\n",
    "print(X_train.shape, X_test.shape, y_train.shape, y_test.shape)"
   ]
  },
  {
   "cell_type": "code",
   "execution_count": 95,
   "id": "e8c885ac",
   "metadata": {},
   "outputs": [
    {
     "name": "stdout",
     "output_type": "stream",
     "text": [
      "28\n"
     ]
    }
   ],
   "source": [
    "# determine the number of input features\n",
    "n_features = X_train.shape[1]\n",
    "print(n_features)"
   ]
  },
  {
   "cell_type": "code",
   "execution_count": 96,
   "id": "7c089e0a",
   "metadata": {},
   "outputs": [],
   "source": [
    "# define model\n",
    "model = Sequential()\n",
    "model.add(Dense(10, activation='sigmoid', kernel_initializer='he_normal', input_shape=(n_features,)))\n",
    "model.add(Dense(8, activation='relu', kernel_initializer='he_normal'))\n",
    "model.add(Dense(1, activation='sigmoid', kernel_initializer='he_normal'))"
   ]
  },
  {
   "cell_type": "code",
   "execution_count": 97,
   "id": "d3fb50f2",
   "metadata": {},
   "outputs": [],
   "source": [
    "# compile the model\n",
    "model.compile(optimizer='adam', loss='mse')"
   ]
  },
  {
   "cell_type": "code",
   "execution_count": 98,
   "id": "3928b6f3",
   "metadata": {},
   "outputs": [
    {
     "data": {
      "text/plain": [
       "<keras.callbacks.History at 0x2b75e45a580>"
      ]
     },
     "execution_count": 98,
     "metadata": {},
     "output_type": "execute_result"
    }
   ],
   "source": [
    "# fit the model\n",
    "model.fit(X_train, y_train, epochs=300, batch_size=10, verbose=0)"
   ]
  },
  {
   "cell_type": "code",
   "execution_count": 99,
   "id": "e7152899",
   "metadata": {},
   "outputs": [
    {
     "name": "stdout",
     "output_type": "stream",
     "text": [
      "MSE: 0.023, RMSE: 0.152\n"
     ]
    }
   ],
   "source": [
    "# evaluate the model\n",
    "error = model.evaluate(X_test, y_test, verbose=0)\n",
    "print('MSE: %.3f, RMSE: %.3f' % (error, sqrt(error)))"
   ]
  },
  {
   "cell_type": "code",
   "execution_count": 100,
   "id": "87f7eafc",
   "metadata": {},
   "outputs": [
    {
     "name": "stdout",
     "output_type": "stream",
     "text": [
      "1/1 [==============================] - 0s 45ms/step\n",
      "Predicted: 0.513\n",
      "1/1 [==============================] - 0s 16ms/step\n",
      "Predicted: 0.513\n"
     ]
    }
   ],
   "source": [
    "# Making a prediction for integration with control code\n",
    "# IMPROVEMENT AREA: Sometimes the model will predict a number greater than 1. This should not happen.\n",
    "current_prediction = model.predict(currentWeather)\n",
    "if (current_prediction < 0):\n",
    "    current_prediction = 0\n",
    "print('Predicted: %.3f' % current_prediction)\n",
    "\n",
    "future_prediction = model.predict(nextHourWeather)\n",
    "if (current_prediction < 0):\n",
    "    current_prediction = 0\n",
    "print('Predicted: %.3f' % future_prediction)"
   ]
  },
  {
   "cell_type": "code",
   "execution_count": 101,
   "id": "74d8dad1",
   "metadata": {},
   "outputs": [],
   "source": [
    "# Return predictions in a list\n",
    "#return([current_prediction, future_prediction])"
   ]
  }
 ],
 "metadata": {
  "kernelspec": {
   "display_name": "Python 3 (ipykernel)",
   "language": "python",
   "name": "python3"
  },
  "language_info": {
   "codemirror_mode": {
    "name": "ipython",
    "version": 3
   },
   "file_extension": ".py",
   "mimetype": "text/x-python",
   "name": "python",
   "nbconvert_exporter": "python",
   "pygments_lexer": "ipython3",
   "version": "3.9.12"
  }
 },
 "nbformat": 4,
 "nbformat_minor": 5
}
