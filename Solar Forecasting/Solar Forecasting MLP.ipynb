{
 "cells": [
  {
   "cell_type": "code",
   "execution_count": 1,
   "id": "306e8fe2",
   "metadata": {},
   "outputs": [],
   "source": [
    "# mlp for regression\n",
    "from numpy import sqrt\n",
    "from pandas import read_csv\n",
    "from sklearn.model_selection import train_test_split\n",
    "from tensorflow.keras import Sequential\n",
    "from tensorflow.keras.layers import Dense"
   ]
  },
  {
   "cell_type": "code",
   "execution_count": 2,
   "id": "851ab087",
   "metadata": {},
   "outputs": [],
   "source": [
    "# load the dataset\n",
    "df = read_csv(\"Memory_SolarTrainingData.csv\", index_col=0)"
   ]
  },
  {
   "cell_type": "code",
   "execution_count": 3,
   "id": "55683a2c",
   "metadata": {},
   "outputs": [
    {
     "data": {
      "text/html": [
       "<div>\n",
       "<style scoped>\n",
       "    .dataframe tbody tr th:only-of-type {\n",
       "        vertical-align: middle;\n",
       "    }\n",
       "\n",
       "    .dataframe tbody tr th {\n",
       "        vertical-align: top;\n",
       "    }\n",
       "\n",
       "    .dataframe thead th {\n",
       "        text-align: right;\n",
       "    }\n",
       "</style>\n",
       "<table border=\"1\" class=\"dataframe\">\n",
       "  <thead>\n",
       "    <tr style=\"text-align: right;\">\n",
       "      <th></th>\n",
       "      <th>onefourtyfive_ago</th>\n",
       "      <th>onethirty_ago</th>\n",
       "      <th>onefifteen_ago</th>\n",
       "      <th>one_ago</th>\n",
       "      <th>fourtyfive_ago</th>\n",
       "      <th>thirty_ago</th>\n",
       "      <th>fifteen_ago</th>\n",
       "      <th>temp</th>\n",
       "      <th>feelslike</th>\n",
       "      <th>dew</th>\n",
       "      <th>...</th>\n",
       "      <th>cloudcover</th>\n",
       "      <th>visibility</th>\n",
       "      <th>solarradiation</th>\n",
       "      <th>solarenergy</th>\n",
       "      <th>uvindex</th>\n",
       "      <th>year</th>\n",
       "      <th>month</th>\n",
       "      <th>day</th>\n",
       "      <th>time</th>\n",
       "      <th>Percent Output</th>\n",
       "    </tr>\n",
       "  </thead>\n",
       "  <tbody>\n",
       "    <tr>\n",
       "      <th>2824</th>\n",
       "      <td>0.44480</td>\n",
       "      <td>0.36112</td>\n",
       "      <td>0.29264</td>\n",
       "      <td>0.33872</td>\n",
       "      <td>0.36496</td>\n",
       "      <td>0.18032</td>\n",
       "      <td>0.15104</td>\n",
       "      <td>90.3</td>\n",
       "      <td>96.7</td>\n",
       "      <td>71.1</td>\n",
       "      <td>...</td>\n",
       "      <td>20.1</td>\n",
       "      <td>9.9</td>\n",
       "      <td>141.0</td>\n",
       "      <td>0.5</td>\n",
       "      <td>1.0</td>\n",
       "      <td>2018</td>\n",
       "      <td>8</td>\n",
       "      <td>29</td>\n",
       "      <td>19.0</td>\n",
       "      <td>0.07072</td>\n",
       "    </tr>\n",
       "    <tr>\n",
       "      <th>2825</th>\n",
       "      <td>0.36496</td>\n",
       "      <td>0.18032</td>\n",
       "      <td>0.15104</td>\n",
       "      <td>0.07072</td>\n",
       "      <td>0.08704</td>\n",
       "      <td>0.06112</td>\n",
       "      <td>0.00672</td>\n",
       "      <td>84.6</td>\n",
       "      <td>90.7</td>\n",
       "      <td>72.4</td>\n",
       "      <td>...</td>\n",
       "      <td>20.1</td>\n",
       "      <td>9.9</td>\n",
       "      <td>20.0</td>\n",
       "      <td>0.1</td>\n",
       "      <td>0.0</td>\n",
       "      <td>2018</td>\n",
       "      <td>8</td>\n",
       "      <td>29</td>\n",
       "      <td>20.0</td>\n",
       "      <td>-0.00416</td>\n",
       "    </tr>\n",
       "    <tr>\n",
       "      <th>2844</th>\n",
       "      <td>0.58128</td>\n",
       "      <td>0.49440</td>\n",
       "      <td>0.47568</td>\n",
       "      <td>0.63408</td>\n",
       "      <td>0.61072</td>\n",
       "      <td>0.56400</td>\n",
       "      <td>0.60672</td>\n",
       "      <td>96.2</td>\n",
       "      <td>99.3</td>\n",
       "      <td>65.4</td>\n",
       "      <td>...</td>\n",
       "      <td>48.7</td>\n",
       "      <td>9.9</td>\n",
       "      <td>817.0</td>\n",
       "      <td>2.9</td>\n",
       "      <td>8.0</td>\n",
       "      <td>2018</td>\n",
       "      <td>8</td>\n",
       "      <td>30</td>\n",
       "      <td>15.0</td>\n",
       "      <td>0.61072</td>\n",
       "    </tr>\n",
       "    <tr>\n",
       "      <th>2845</th>\n",
       "      <td>0.61072</td>\n",
       "      <td>0.56400</td>\n",
       "      <td>0.60672</td>\n",
       "      <td>0.61072</td>\n",
       "      <td>0.60624</td>\n",
       "      <td>0.60432</td>\n",
       "      <td>0.60320</td>\n",
       "      <td>96.4</td>\n",
       "      <td>98.5</td>\n",
       "      <td>63.7</td>\n",
       "      <td>...</td>\n",
       "      <td>14.2</td>\n",
       "      <td>9.9</td>\n",
       "      <td>707.0</td>\n",
       "      <td>2.5</td>\n",
       "      <td>7.0</td>\n",
       "      <td>2018</td>\n",
       "      <td>8</td>\n",
       "      <td>30</td>\n",
       "      <td>16.0</td>\n",
       "      <td>0.62064</td>\n",
       "    </tr>\n",
       "    <tr>\n",
       "      <th>2871</th>\n",
       "      <td>0.58672</td>\n",
       "      <td>0.57408</td>\n",
       "      <td>0.56256</td>\n",
       "      <td>0.53728</td>\n",
       "      <td>0.46080</td>\n",
       "      <td>0.48064</td>\n",
       "      <td>0.45312</td>\n",
       "      <td>97.4</td>\n",
       "      <td>99.1</td>\n",
       "      <td>62.8</td>\n",
       "      <td>...</td>\n",
       "      <td>11.3</td>\n",
       "      <td>9.9</td>\n",
       "      <td>405.0</td>\n",
       "      <td>1.5</td>\n",
       "      <td>4.0</td>\n",
       "      <td>2018</td>\n",
       "      <td>8</td>\n",
       "      <td>31</td>\n",
       "      <td>18.0</td>\n",
       "      <td>0.41600</td>\n",
       "    </tr>\n",
       "  </tbody>\n",
       "</table>\n",
       "<p>5 rows × 28 columns</p>\n",
       "</div>"
      ],
      "text/plain": [
       "      onefourtyfive_ago  onethirty_ago  onefifteen_ago  one_ago  \\\n",
       "2824            0.44480        0.36112         0.29264  0.33872   \n",
       "2825            0.36496        0.18032         0.15104  0.07072   \n",
       "2844            0.58128        0.49440         0.47568  0.63408   \n",
       "2845            0.61072        0.56400         0.60672  0.61072   \n",
       "2871            0.58672        0.57408         0.56256  0.53728   \n",
       "\n",
       "      fourtyfive_ago  thirty_ago  fifteen_ago  temp  feelslike   dew  ...  \\\n",
       "2824         0.36496     0.18032      0.15104  90.3       96.7  71.1  ...   \n",
       "2825         0.08704     0.06112      0.00672  84.6       90.7  72.4  ...   \n",
       "2844         0.61072     0.56400      0.60672  96.2       99.3  65.4  ...   \n",
       "2845         0.60624     0.60432      0.60320  96.4       98.5  63.7  ...   \n",
       "2871         0.46080     0.48064      0.45312  97.4       99.1  62.8  ...   \n",
       "\n",
       "      cloudcover  visibility  solarradiation  solarenergy  uvindex  year  \\\n",
       "2824        20.1         9.9           141.0          0.5      1.0  2018   \n",
       "2825        20.1         9.9            20.0          0.1      0.0  2018   \n",
       "2844        48.7         9.9           817.0          2.9      8.0  2018   \n",
       "2845        14.2         9.9           707.0          2.5      7.0  2018   \n",
       "2871        11.3         9.9           405.0          1.5      4.0  2018   \n",
       "\n",
       "      month  day  time  Percent Output  \n",
       "2824      8   29  19.0         0.07072  \n",
       "2825      8   29  20.0        -0.00416  \n",
       "2844      8   30  15.0         0.61072  \n",
       "2845      8   30  16.0         0.62064  \n",
       "2871      8   31  18.0         0.41600  \n",
       "\n",
       "[5 rows x 28 columns]"
      ]
     },
     "execution_count": 3,
     "metadata": {},
     "output_type": "execute_result"
    }
   ],
   "source": [
    "df.tail()"
   ]
  },
  {
   "cell_type": "code",
   "execution_count": 4,
   "id": "264d0296",
   "metadata": {},
   "outputs": [],
   "source": [
    "# split into past, current, and future data\n",
    "pastWeatherAndSupply = df.iloc[:-2]\n",
    "\n",
    "currentWeather = df.iloc[-2]\n",
    "currentWeather = currentWeather.drop(['Percent Output']) #dropping supply column for testing\n",
    "currentWeather = currentWeather.values[:].reshape((1,27))\n",
    "\n",
    "nextHourWeather = df.iloc[-1]\n",
    "nextHourWeather = nextHourWeather.drop(['Percent Output']) #dropping supply column for testing\n",
    "nextHourWeather = nextHourWeather.values[:].reshape((1,27))"
   ]
  },
  {
   "cell_type": "code",
   "execution_count": 6,
   "id": "3c30f63e",
   "metadata": {},
   "outputs": [
    {
     "name": "stdout",
     "output_type": "stream",
     "text": [
      "[[6.1072e-01 5.6400e-01 6.0672e-01 6.1072e-01 6.0624e-01 6.0432e-01\n",
      "  6.0320e-01 9.6400e+01 9.8500e+01 6.3700e+01 3.4260e+01 0.0000e+00\n",
      "  0.0000e+00 0.0000e+00 1.6100e+01 4.6000e+00 9.2000e+01 1.0132e+03\n",
      "  1.4200e+01 9.9000e+00 7.0700e+02 2.5000e+00 7.0000e+00 2.0180e+03\n",
      "  8.0000e+00 3.0000e+01 1.6000e+01]]\n"
     ]
    }
   ],
   "source": [
    "print(currentWeather)"
   ]
  },
  {
   "cell_type": "code",
   "execution_count": 7,
   "id": "31be67a0",
   "metadata": {},
   "outputs": [
    {
     "name": "stdout",
     "output_type": "stream",
     "text": [
      "[[5.8672e-01 5.7408e-01 5.6256e-01 5.3728e-01 4.6080e-01 4.8064e-01\n",
      "  4.5312e-01 9.7400e+01 9.9100e+01 6.2800e+01 3.2190e+01 0.0000e+00\n",
      "  0.0000e+00 0.0000e+00 1.6100e+01 1.0600e+01 1.3800e+02 1.0096e+03\n",
      "  1.1300e+01 9.9000e+00 4.0500e+02 1.5000e+00 4.0000e+00 2.0180e+03\n",
      "  8.0000e+00 3.1000e+01 1.8000e+01]]\n"
     ]
    }
   ],
   "source": [
    "print(nextHourWeather)"
   ]
  },
  {
   "cell_type": "code",
   "execution_count": 102,
   "id": "e262ac5c",
   "metadata": {},
   "outputs": [],
   "source": [
    "# split into input and output columns\n",
    "X, y = pastWeatherAndSupply.values[:, :-1], pastWeatherAndSupply.values[:, -1]"
   ]
  },
  {
   "cell_type": "code",
   "execution_count": 103,
   "id": "a2de3360",
   "metadata": {},
   "outputs": [
    {
     "name": "stdout",
     "output_type": "stream",
     "text": [
      "(401, 27) (101, 27) (401,) (101,)\n"
     ]
    }
   ],
   "source": [
    "# split into train and test datasets\n",
    "X_train, X_test, y_train, y_test = train_test_split(X, y, test_size=0.20)\n",
    "print(X_train.shape, X_test.shape, y_train.shape, y_test.shape)"
   ]
  },
  {
   "cell_type": "code",
   "execution_count": 104,
   "id": "e8c885ac",
   "metadata": {},
   "outputs": [
    {
     "name": "stdout",
     "output_type": "stream",
     "text": [
      "27\n"
     ]
    }
   ],
   "source": [
    "# determine the number of input features\n",
    "n_features = X_train.shape[1]\n",
    "print(n_features)"
   ]
  },
  {
   "cell_type": "code",
   "execution_count": 105,
   "id": "7c089e0a",
   "metadata": {},
   "outputs": [],
   "source": [
    "# define model\n",
    "model = Sequential()\n",
    "model.add(Dense(10, activation='sigmoid', kernel_initializer='he_normal', input_shape=(n_features,)))\n",
    "model.add(Dense(8, activation='relu', kernel_initializer='he_normal'))\n",
    "model.add(Dense(1, activation='sigmoid', kernel_initializer='he_normal'))"
   ]
  },
  {
   "cell_type": "code",
   "execution_count": 106,
   "id": "d3fb50f2",
   "metadata": {},
   "outputs": [],
   "source": [
    "# compile the model\n",
    "model.compile(optimizer='adam', loss='mse')"
   ]
  },
  {
   "cell_type": "code",
   "execution_count": 107,
   "id": "3928b6f3",
   "metadata": {},
   "outputs": [
    {
     "data": {
      "text/plain": [
       "<keras.callbacks.History at 0x260e82ea670>"
      ]
     },
     "execution_count": 107,
     "metadata": {},
     "output_type": "execute_result"
    }
   ],
   "source": [
    "# fit the model\n",
    "model.fit(X_train, y_train, epochs=300, batch_size=10, verbose=0)"
   ]
  },
  {
   "cell_type": "code",
   "execution_count": 108,
   "id": "e7152899",
   "metadata": {},
   "outputs": [
    {
     "name": "stdout",
     "output_type": "stream",
     "text": [
      "MSE: 0.044, RMSE: 0.209\n"
     ]
    }
   ],
   "source": [
    "# evaluate the model\n",
    "error = model.evaluate(X_test, y_test, verbose=0)\n",
    "print('MSE: %.3f, RMSE: %.3f' % (error, sqrt(error)))"
   ]
  },
  {
   "cell_type": "code",
   "execution_count": 109,
   "id": "87f7eafc",
   "metadata": {},
   "outputs": [
    {
     "name": "stdout",
     "output_type": "stream",
     "text": [
      "1/1 [==============================] - 0s 70ms/step\n",
      "Predicted: 0.351\n",
      "1/1 [==============================] - 0s 22ms/step\n",
      "Predicted: 0.351\n"
     ]
    }
   ],
   "source": [
    "# Making a prediction for integration with control code\n",
    "# IMPROVEMENT AREA: Sometimes the model will predict a number greater than 1. This should not happen.\n",
    "current_prediction = model.predict(currentWeather)\n",
    "if (current_prediction < 0):\n",
    "    current_prediction = 0\n",
    "print('Predicted: %.3f' % current_prediction)\n",
    "\n",
    "future_prediction = model.predict(nextHourWeather)\n",
    "if (current_prediction < 0):\n",
    "    current_prediction = 0\n",
    "print('Predicted: %.3f' % future_prediction)"
   ]
  },
  {
   "cell_type": "code",
   "execution_count": 110,
   "id": "74d8dad1",
   "metadata": {},
   "outputs": [],
   "source": [
    "# Return predictions in a list\n",
    "#return([current_prediction, future_prediction])"
   ]
  }
 ],
 "metadata": {
  "kernelspec": {
   "display_name": "Python 3 (ipykernel)",
   "language": "python",
   "name": "python3"
  },
  "language_info": {
   "codemirror_mode": {
    "name": "ipython",
    "version": 3
   },
   "file_extension": ".py",
   "mimetype": "text/x-python",
   "name": "python",
   "nbconvert_exporter": "python",
   "pygments_lexer": "ipython3",
   "version": "3.9.12"
  }
 },
 "nbformat": 4,
 "nbformat_minor": 5
}
