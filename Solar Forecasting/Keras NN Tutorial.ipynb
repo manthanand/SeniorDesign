{
 "cells": [
  {
   "cell_type": "markdown",
   "metadata": {},
   "source": [
    "# MLP (Multilayer Perceptron) Neural Networks"
   ]
  },
  {
   "cell_type": "markdown",
   "metadata": {},
   "source": [
    "## Binary Classification\n",
    "\n",
    "This model takes in data which belongs to 1 of 2 classes and is trained to distinguish between the two."
   ]
  },
  {
   "cell_type": "code",
   "execution_count": 1,
   "metadata": {},
   "outputs": [],
   "source": [
    "# mlp for binary classification\n",
    "from pandas import read_csv\n",
    "from sklearn.model_selection import train_test_split\n",
    "from sklearn.preprocessing import LabelEncoder\n",
    "from tensorflow.keras import Sequential\n",
    "from tensorflow.keras.layers import Dense"
   ]
  },
  {
   "cell_type": "code",
   "execution_count": 2,
   "metadata": {},
   "outputs": [],
   "source": [
    "# load the dataset\n",
    "path = 'https://raw.githubusercontent.com/jbrownlee/Datasets/master/ionosphere.csv'\n",
    "df = read_csv(path, header=None)"
   ]
  },
  {
   "cell_type": "code",
   "execution_count": 3,
   "metadata": {},
   "outputs": [
    {
     "name": "stdout",
     "output_type": "stream",
     "text": [
      "(235, 34) (116, 34) (235,) (116,)\n"
     ]
    }
   ],
   "source": [
    "# split into input and output columns\n",
    "X, y = df.values[:, :-1], df.values[:, -1]\n",
    "# ensure all data are floating point values\n",
    "X = X.astype('float32')\n",
    "# encode strings to integer\n",
    "y = LabelEncoder().fit_transform(y)\n",
    "# split into train and test datasets\n",
    "X_train, X_test, y_train, y_test = train_test_split(X, y, test_size=0.33)\n",
    "print(X_train.shape, X_test.shape, y_train.shape, y_test.shape)"
   ]
  },
  {
   "cell_type": "code",
   "execution_count": 4,
   "metadata": {},
   "outputs": [],
   "source": [
    "# determine the number of input features\n",
    "n_features = X_train.shape[1]\n",
    "# define model\n",
    "model = Sequential()\n",
    "model.add(Dense(10, activation='relu', kernel_initializer='he_normal', input_shape=(n_features,)))\n",
    "model.add(Dense(8, activation='relu', kernel_initializer='he_normal'))\n",
    "model.add(Dense(1, activation='sigmoid'))\n",
    "# compile the model\n",
    "model.compile(optimizer='adam', loss='binary_crossentropy', metrics=['accuracy'])"
   ]
  },
  {
   "cell_type": "code",
   "execution_count": 5,
   "metadata": {},
   "outputs": [
    {
     "data": {
      "text/plain": [
       "<keras.callbacks.History at 0x2237975d2b0>"
      ]
     },
     "execution_count": 5,
     "metadata": {},
     "output_type": "execute_result"
    }
   ],
   "source": [
    "# fit the model\n",
    "model.fit(X_train, y_train, epochs=150, batch_size=32, verbose=0)"
   ]
  },
  {
   "cell_type": "code",
   "execution_count": 6,
   "metadata": {},
   "outputs": [
    {
     "name": "stdout",
     "output_type": "stream",
     "text": [
      "Test Accuracy: 0.914\n"
     ]
    }
   ],
   "source": [
    "# evaluate the model\n",
    "loss, acc = model.evaluate(X_test, y_test, verbose=0)\n",
    "print('Test Accuracy: %.3f' % acc)"
   ]
  },
  {
   "cell_type": "code",
   "execution_count": 7,
   "metadata": {},
   "outputs": [
    {
     "name": "stdout",
     "output_type": "stream",
     "text": [
      "1/1 [==============================] - 0s 233ms/step\n",
      "Predicted: 0.972\n"
     ]
    }
   ],
   "source": [
    "# make a prediction\n",
    "row = [1,0,0.99539,-0.05889,0.85243,0.02306,0.83398,-0.37708,1,0.03760,0.85243,-0.17755,0.59755,-0.44945,0.60536,-0.38223,0.84356,-0.38542,0.58212,-0.32192,0.56971,-0.29674,0.36946,-0.47357,0.56811,-0.51171,0.41078,-0.46168,0.21266,-0.34090,0.42267,-0.54487,0.18641,-0.45300]\n",
    "yhat = model.predict([row])\n",
    "print('Predicted: %.3f' % yhat)"
   ]
  },
  {
   "cell_type": "markdown",
   "metadata": {},
   "source": [
    "## Multiclass Classification\n",
    "\n",
    "This model takes in data which belongs to multiple classes and is trained to distinguish which class a given input belongs to."
   ]
  },
  {
   "cell_type": "code",
   "execution_count": 8,
   "metadata": {},
   "outputs": [],
   "source": [
    "# mlp for multiclass classification\n",
    "from numpy import argmax\n",
    "from pandas import read_csv\n",
    "from sklearn.model_selection import train_test_split\n",
    "from sklearn.preprocessing import LabelEncoder\n",
    "from tensorflow.keras import Sequential\n",
    "from tensorflow.keras.layers import Dense"
   ]
  },
  {
   "cell_type": "code",
   "execution_count": 9,
   "metadata": {},
   "outputs": [],
   "source": [
    "# load the dataset\n",
    "path = 'https://raw.githubusercontent.com/jbrownlee/Datasets/master/iris.csv'\n",
    "df = read_csv(path, header=None)"
   ]
  },
  {
   "cell_type": "code",
   "execution_count": 10,
   "metadata": {},
   "outputs": [
    {
     "name": "stdout",
     "output_type": "stream",
     "text": [
      "(100, 4) (50, 4) (100,) (50,)\n"
     ]
    }
   ],
   "source": [
    "# split into input and output columns\n",
    "X, y = df.values[:, :-1], df.values[:, -1]\n",
    "# ensure all data are floating point values\n",
    "X = X.astype('float32')\n",
    "# encode strings to integer\n",
    "y = LabelEncoder().fit_transform(y)\n",
    "# split into train and test datasets\n",
    "X_train, X_test, y_train, y_test = train_test_split(X, y, test_size=0.33)\n",
    "print(X_train.shape, X_test.shape, y_train.shape, y_test.shape)"
   ]
  },
  {
   "cell_type": "code",
   "execution_count": 11,
   "metadata": {},
   "outputs": [],
   "source": [
    "# determine the number of input features\n",
    "n_features = X_train.shape[1]\n",
    "# define model\n",
    "model = Sequential()\n",
    "model.add(Dense(10, activation='relu', kernel_initializer='he_normal', input_shape=(n_features,)))\n",
    "model.add(Dense(8, activation='relu', kernel_initializer='he_normal'))\n",
    "model.add(Dense(3, activation='softmax'))\n",
    "# compile the model\n",
    "model.compile(optimizer='adam', loss='sparse_categorical_crossentropy', metrics=['accuracy'])"
   ]
  },
  {
   "cell_type": "code",
   "execution_count": 12,
   "metadata": {},
   "outputs": [
    {
     "data": {
      "text/plain": [
       "<keras.callbacks.History at 0x2237ae9f9a0>"
      ]
     },
     "execution_count": 12,
     "metadata": {},
     "output_type": "execute_result"
    }
   ],
   "source": [
    "# fit the model\n",
    "model.fit(X_train, y_train, epochs=150, batch_size=32, verbose=0)"
   ]
  },
  {
   "cell_type": "code",
   "execution_count": 13,
   "metadata": {},
   "outputs": [
    {
     "name": "stdout",
     "output_type": "stream",
     "text": [
      "Test Accuracy: 0.920\n"
     ]
    }
   ],
   "source": [
    "# evaluate the model\n",
    "loss, acc = model.evaluate(X_test, y_test, verbose=0)\n",
    "print('Test Accuracy: %.3f' % acc)"
   ]
  },
  {
   "cell_type": "code",
   "execution_count": 14,
   "metadata": {},
   "outputs": [
    {
     "name": "stdout",
     "output_type": "stream",
     "text": [
      "1/1 [==============================] - 0s 155ms/step\n",
      "Predicted: [[0.9269138  0.06676561 0.00632053]] (class=0)\n"
     ]
    }
   ],
   "source": [
    "# make a prediction\n",
    "row = [5.1,3.5,1.4,0.2]\n",
    "yhat = model.predict([row])\n",
    "print('Predicted: %s (class=%d)' % (yhat, argmax(yhat)))"
   ]
  },
  {
   "cell_type": "markdown",
   "metadata": {},
   "source": [
    "## MLP for Regression\n",
    "\n",
    "This model takes in data with a continous variable as an output (i.e. a number), and is trained to predict a single numerical value for a given input"
   ]
  },
  {
   "cell_type": "code",
   "execution_count": 15,
   "metadata": {},
   "outputs": [],
   "source": [
    "# mlp for regression\n",
    "from numpy import sqrt\n",
    "from pandas import read_csv\n",
    "from sklearn.model_selection import train_test_split\n",
    "from tensorflow.keras import Sequential\n",
    "from tensorflow.keras.layers import Dense"
   ]
  },
  {
   "cell_type": "code",
   "execution_count": 16,
   "metadata": {},
   "outputs": [],
   "source": [
    "# load the dataset\n",
    "path = 'https://raw.githubusercontent.com/jbrownlee/Datasets/master/housing.csv'\n",
    "df = read_csv(path, header=None)"
   ]
  },
  {
   "cell_type": "code",
   "execution_count": 17,
   "metadata": {},
   "outputs": [
    {
     "name": "stdout",
     "output_type": "stream",
     "text": [
      "(339, 13) (167, 13) (339,) (167,)\n"
     ]
    }
   ],
   "source": [
    "# split into input and output columns\n",
    "X, y = df.values[:, :-1], df.values[:, -1]\n",
    "# split into train and test datasets\n",
    "X_train, X_test, y_train, y_test = train_test_split(X, y, test_size=0.33)\n",
    "print(X_train.shape, X_test.shape, y_train.shape, y_test.shape)"
   ]
  },
  {
   "cell_type": "code",
   "execution_count": 18,
   "metadata": {},
   "outputs": [],
   "source": [
    "# determine the number of input features\n",
    "n_features = X_train.shape[1]\n",
    "# define model\n",
    "model = Sequential()\n",
    "model.add(Dense(10, activation='relu', kernel_initializer='he_normal', input_shape=(n_features,)))\n",
    "model.add(Dense(8, activation='relu', kernel_initializer='he_normal'))\n",
    "model.add(Dense(1))\n",
    "# compile the model\n",
    "model.compile(optimizer='adam', loss='mse')"
   ]
  },
  {
   "cell_type": "code",
   "execution_count": 19,
   "metadata": {},
   "outputs": [
    {
     "name": "stdout",
     "output_type": "stream",
     "text": [
      "MSE: 43.392, RMSE: 6.587\n"
     ]
    }
   ],
   "source": [
    "# fit the model\n",
    "model.fit(X_train, y_train, epochs=150, batch_size=32, verbose=0)\n",
    "# evaluate the model\n",
    "error = model.evaluate(X_test, y_test, verbose=0)\n",
    "print('MSE: %.3f, RMSE: %.3f' % (error, sqrt(error)))"
   ]
  },
  {
   "cell_type": "code",
   "execution_count": 20,
   "metadata": {},
   "outputs": [
    {
     "name": "stdout",
     "output_type": "stream",
     "text": [
      "1/1 [==============================] - 0s 135ms/step\n",
      "Predicted: 32.622\n"
     ]
    }
   ],
   "source": [
    "# make a prediction\n",
    "row = [0.00632,18.00,2.310,0,0.5380,6.5750,65.20,4.0900,1,296.0,15.30,396.90,4.98]\n",
    "yhat = model.predict([row])\n",
    "print('Predicted: %.3f' % yhat)"
   ]
  },
  {
   "cell_type": "markdown",
   "metadata": {},
   "source": [
    "## Convolutional Neural Networks\n",
    "\n",
    "This architecture is primarily used for tasks involving images, most often image classification. Key elements that make this work are feature maps and pooling layers"
   ]
  },
  {
   "cell_type": "code",
   "execution_count": 21,
   "metadata": {},
   "outputs": [
    {
     "name": "stdout",
     "output_type": "stream",
     "text": [
      "Downloading data from https://storage.googleapis.com/tensorflow/tf-keras-datasets/mnist.npz\n",
      "11490434/11490434 [==============================] - 1s 0us/step\n",
      "Train: X=(60000, 28, 28), y=(60000,)\n",
      "Test: X=(10000, 28, 28), y=(10000,)\n"
     ]
    },
    {
     "data": {
      "image/png": "[encoded data removed]",
      "text/plain": [
       "<Figure size 432x288 with 25 Axes>"
      ]
     },
     "metadata": {
      "needs_background": "light"
     },
     "output_type": "display_data"
    }
   ],
   "source": [
    "# example of loading and plotting the mnist dataset\n",
    "from tensorflow.keras.datasets.mnist import load_data\n",
    "from matplotlib import pyplot\n",
    "# load dataset\n",
    "(trainX, trainy), (testX, testy) = load_data()\n",
    "# summarize loaded dataset\n",
    "print('Train: X=%s, y=%s' % (trainX.shape, trainy.shape))\n",
    "print('Test: X=%s, y=%s' % (testX.shape, testy.shape))\n",
    "# plot first few images\n",
    "for i in range(25):\n",
    "\t# define subplot\n",
    "\tpyplot.subplot(5, 5, i+1)\n",
    "\t# plot raw pixel data\n",
    "\tpyplot.imshow(trainX[i], cmap=pyplot.get_cmap('gray'))\n",
    "# show the figure\n",
    "pyplot.show()"
   ]
  },
  {
   "cell_type": "code",
   "execution_count": 22,
   "metadata": {},
   "outputs": [],
   "source": [
    "# example of a cnn for image classification\n",
    "from numpy import asarray\n",
    "from numpy import unique\n",
    "from numpy import argmax\n",
    "from tensorflow.keras.datasets.mnist import load_data\n",
    "from tensorflow.keras import Sequential\n",
    "from tensorflow.keras.layers import Dense\n",
    "from tensorflow.keras.layers import Conv2D\n",
    "from tensorflow.keras.layers import MaxPool2D\n",
    "from tensorflow.keras.layers import Flatten\n",
    "from tensorflow.keras.layers import Dropout"
   ]
  },
  {
   "cell_type": "code",
   "execution_count": 23,
   "metadata": {},
   "outputs": [],
   "source": [
    "# load dataset\n",
    "(x_train, y_train), (x_test, y_test) = load_data()"
   ]
  },
  {
   "cell_type": "code",
   "execution_count": 24,
   "metadata": {},
   "outputs": [
    {
     "name": "stdout",
     "output_type": "stream",
     "text": [
      "(28, 28, 1) 10\n"
     ]
    }
   ],
   "source": [
    "# reshape data to have a single channel\n",
    "x_train = x_train.reshape((x_train.shape[0], x_train.shape[1], x_train.shape[2], 1))\n",
    "x_test = x_test.reshape((x_test.shape[0], x_test.shape[1], x_test.shape[2], 1))\n",
    "# determine the shape of the input images\n",
    "in_shape = x_train.shape[1:]\n",
    "# determine the number of classes\n",
    "n_classes = len(unique(y_train))\n",
    "print(in_shape, n_classes)\n",
    "# normalize pixel values\n",
    "x_train = x_train.astype('float32') / 255.0\n",
    "x_test = x_test.astype('float32') / 255.0"
   ]
  },
  {
   "cell_type": "code",
   "execution_count": 28,
   "metadata": {},
   "outputs": [],
   "source": [
    "# define model\n",
    "model = Sequential()\n",
    "model.add(Conv2D(32, (3,3), activation='relu', kernel_initializer='he_uniform', input_shape=in_shape))\n",
    "model.add(MaxPool2D((2, 2)))\n",
    "model.add(Flatten())\n",
    "model.add(Dense(100, activation='relu', kernel_initializer='he_uniform'))\n",
    "model.add(Dropout(0.5))\n",
    "model.add(Dense(n_classes, activation='softmax'))\n",
    "# define loss and optimizer\n",
    "model.compile(optimizer='adam', loss='sparse_categorical_crossentropy', metrics=['accuracy'])"
   ]
  },
  {
   "cell_type": "code",
   "execution_count": 29,
   "metadata": {},
   "outputs": [
    {
     "name": "stdout",
     "output_type": "stream",
     "text": [
      "Accuracy: 0.987\n"
     ]
    }
   ],
   "source": [
    "# fit the model\n",
    "model.fit(x_train, y_train, epochs=10, batch_size=128, verbose=0)\n",
    "# evaluate the model\n",
    "loss, acc = model.evaluate(x_test, y_test, verbose=0)\n",
    "print('Accuracy: %.3f' % acc)"
   ]
  },
  {
   "cell_type": "code",
   "execution_count": 30,
   "metadata": {},
   "outputs": [
    {
     "name": "stdout",
     "output_type": "stream",
     "text": [
      "1/1 [==============================] - 0s 94ms/step\n",
      "Predicted: class=5\n"
     ]
    }
   ],
   "source": [
    "# make a prediction\n",
    "image = x_train[0]\n",
    "yhat = model.predict(asarray([image]))\n",
    "print('Predicted: class=%d' % argmax(yhat))"
   ]
  },
  {
   "cell_type": "markdown",
   "metadata": {},
   "source": [
    "# Recurrent Neural Networks\n",
    "\n",
    "This architecture is designed to operate on sequences of data (natural language processing, time series forecasting (US!!), and speech recognition).\n",
    "\n",
    "This example uses an LSTM, or Long Short-Term Memory network.\n",
    "\n",
    "Data needs to be transformed to make this work: https://machinelearningmastery.com/machine-learning-data-transforms-for-time-series-forecasting/"
   ]
  },
  {
   "cell_type": "code",
   "execution_count": 31,
   "metadata": {},
   "outputs": [],
   "source": [
    "# lstm for time series forecasting\n",
    "from numpy import sqrt\n",
    "from numpy import asarray\n",
    "from pandas import read_csv\n",
    "from tensorflow.keras import Sequential\n",
    "from tensorflow.keras.layers import Dense\n",
    "from tensorflow.keras.layers import LSTM"
   ]
  },
  {
   "cell_type": "code",
   "execution_count": 8,
   "metadata": {},
   "outputs": [],
   "source": [
    "# split a univariate sequence into samples\n",
    "def split_sequence(sequence, n_steps):\n",
    "\tX, y = list(), list()\n",
    "\tfor i in range(len(sequence)):\n",
    "\t\t# find the end of this pattern\n",
    "\t\tend_ix = i + n_steps\n",
    "\t\t# check if we are beyond the sequence\n",
    "\t\tif end_ix > len(sequence)-1:\n",
    "\t\t\tbreak\n",
    "\t\t# gather input and output parts of the pattern\n",
    "\t\tseq_x, seq_y = sequence[i:end_ix], sequence[end_ix]\n",
    "\t\tX.append(seq_x)\n",
    "\t\ty.append(seq_y)\n",
    "\treturn asarray(X), asarray(y)"
   ]
  },
  {
   "cell_type": "code",
   "execution_count": 9,
   "metadata": {},
   "outputs": [],
   "source": [
    "# load the dataset\n",
    "path = 'https://raw.githubusercontent.com/jbrownlee/Datasets/master/monthly-car-sales.csv'\n",
    "df = read_csv(path, header=0, index_col=0, squeeze=True)"
   ]
  },
  {
   "cell_type": "code",
   "execution_count": 10,
   "metadata": {},
   "outputs": [
    {
     "name": "stdout",
     "output_type": "stream",
     "text": [
      "(91, 5, 1) (12, 5, 1) (91,) (12,)\n"
     ]
    }
   ],
   "source": [
    "# retrieve the values\n",
    "values = df.values.astype('float32')\n",
    "# specify the window size\n",
    "n_steps = 5\n",
    "# split into samples\n",
    "X, y = split_sequence(values, n_steps)\n",
    "# reshape into [samples, timesteps, features]\n",
    "X = X.reshape((X.shape[0], X.shape[1], 1))\n",
    "# split into train/test\n",
    "n_test = 12\n",
    "X_train, X_test, y_train, y_test = X[:-n_test], X[-n_test:], y[:-n_test], y[-n_test:]\n",
    "print(X_train.shape, X_test.shape, y_train.shape, y_test.shape)"
   ]
  },
  {
   "cell_type": "code",
   "execution_count": 11,
   "metadata": {},
   "outputs": [],
   "source": [
    "# define model\n",
    "model = Sequential()\n",
    "model.add(LSTM(100, activation='relu', kernel_initializer='he_normal', input_shape=(n_steps,1)))\n",
    "model.add(Dense(50, activation='relu', kernel_initializer='he_normal'))\n",
    "model.add(Dense(50, activation='relu', kernel_initializer='he_normal'))\n",
    "model.add(Dense(1))\n",
    "# compile the model\n",
    "model.compile(optimizer='adam', loss='mse', metrics=['mae'])"
   ]
  },
  {
   "cell_type": "code",
   "execution_count": 12,
   "metadata": {},
   "outputs": [
    {
     "name": "stdout",
     "output_type": "stream",
     "text": [
      "Epoch 1/350\n",
      "3/3 - 1s - loss: 229418896.0000 - mae: 8987.9619 - val_loss: 117474792.0000 - val_mae: 9372.7119 - 1s/epoch - 420ms/step\n",
      "Epoch 2/350\n",
      "3/3 - 0s - loss: 179465280.0000 - mae: 11562.8037 - val_loss: 149359648.0000 - val_mae: 11344.5107 - 43ms/epoch - 14ms/step\n",
      "Epoch 3/350\n",
      "3/3 - 0s - loss: 124599360.0000 - mae: 9802.4307 - val_loss: 76500648.0000 - val_mae: 7103.8418 - 33ms/epoch - 11ms/step\n",
      "Epoch 4/350\n",
      "3/3 - 0s - loss: 70438336.0000 - mae: 6354.4209 - val_loss: 60564484.0000 - val_mae: 4872.3784 - 32ms/epoch - 11ms/step\n",
      "Epoch 5/350\n",
      "3/3 - 0s - loss: 53521368.0000 - mae: 5011.8027 - val_loss: 77280856.0000 - val_mae: 6229.4399 - 28ms/epoch - 9ms/step\n",
      "Epoch 6/350\n",
      "3/3 - 0s - loss: 41541504.0000 - mae: 4794.9717 - val_loss: 48480560.0000 - val_mae: 5434.1753 - 33ms/epoch - 11ms/step\n",
      "Epoch 7/350\n",
      "3/3 - 0s - loss: 26871144.0000 - mae: 4100.1543 - val_loss: 25873550.0000 - val_mae: 4221.9082 - 33ms/epoch - 11ms/step\n",
      "Epoch 8/350\n",
      "3/3 - 0s - loss: 23284308.0000 - mae: 3912.3723 - val_loss: 23371528.0000 - val_mae: 3571.7649 - 33ms/epoch - 11ms/step\n",
      "Epoch 9/350\n",
      "3/3 - 0s - loss: 19676914.0000 - mae: 3542.1387 - val_loss: 20644842.0000 - val_mae: 3950.2844 - 42ms/epoch - 14ms/step\n",
      "Epoch 10/350\n",
      "3/3 - 0s - loss: 17733874.0000 - mae: 3407.5935 - val_loss: 22084736.0000 - val_mae: 4148.4116 - 33ms/epoch - 11ms/step\n",
      "Epoch 11/350\n",
      "3/3 - 0s - loss: 16815138.0000 - mae: 3367.6377 - val_loss: 27963984.0000 - val_mae: 4760.5957 - 34ms/epoch - 11ms/step\n",
      "Epoch 12/350\n",
      "3/3 - 0s - loss: 13845034.0000 - mae: 3007.6333 - val_loss: 22287188.0000 - val_mae: 4265.6953 - 42ms/epoch - 14ms/step\n",
      "Epoch 13/350\n",
      "3/3 - 0s - loss: 13744997.0000 - mae: 2937.5059 - val_loss: 24153458.0000 - val_mae: 4296.0483 - 35ms/epoch - 12ms/step\n",
      "Epoch 14/350\n",
      "3/3 - 0s - loss: 14070411.0000 - mae: 2938.2341 - val_loss: 18815454.0000 - val_mae: 3773.3464 - 41ms/epoch - 14ms/step\n",
      "Epoch 15/350\n",
      "3/3 - 0s - loss: 12822584.0000 - mae: 2798.5962 - val_loss: 17959848.0000 - val_mae: 3777.0439 - 25ms/epoch - 8ms/step\n",
      "Epoch 16/350\n",
      "3/3 - 0s - loss: 11042879.0000 - mae: 2578.5862 - val_loss: 18651192.0000 - val_mae: 3997.6575 - 49ms/epoch - 16ms/step\n",
      "Epoch 17/350\n",
      "3/3 - 0s - loss: 16171478.0000 - mae: 2954.1375 - val_loss: 24606250.0000 - val_mae: 3938.9629 - 41ms/epoch - 14ms/step\n",
      "Epoch 18/350\n",
      "3/3 - 0s - loss: 14875170.0000 - mae: 2760.3215 - val_loss: 25370802.0000 - val_mae: 3948.8291 - 27ms/epoch - 9ms/step\n",
      "Epoch 19/350\n",
      "3/3 - 0s - loss: 16308059.0000 - mae: 2857.1448 - val_loss: 23766714.0000 - val_mae: 3965.8206 - 50ms/epoch - 17ms/step\n",
      "Epoch 20/350\n",
      "3/3 - 0s - loss: 15617224.0000 - mae: 2846.2329 - val_loss: 24470264.0000 - val_mae: 4161.5312 - 41ms/epoch - 14ms/step\n",
      "Epoch 21/350\n",
      "3/3 - 0s - loss: 13656261.0000 - mae: 2785.4387 - val_loss: 16972822.0000 - val_mae: 3305.1238 - 26ms/epoch - 9ms/step\n",
      "Epoch 22/350\n",
      "3/3 - 0s - loss: 13644198.0000 - mae: 2852.6157 - val_loss: 17673432.0000 - val_mae: 3304.0793 - 34ms/epoch - 11ms/step\n",
      "Epoch 23/350\n",
      "3/3 - 0s - loss: 12600636.0000 - mae: 2666.8833 - val_loss: 15288565.0000 - val_mae: 3096.1584 - 33ms/epoch - 11ms/step\n",
      "Epoch 24/350\n",
      "3/3 - 0s - loss: 12213611.0000 - mae: 2653.6130 - val_loss: 14699849.0000 - val_mae: 3101.3240 - 26ms/epoch - 9ms/step\n",
      "Epoch 25/350\n",
      "3/3 - 0s - loss: 12473203.0000 - mae: 2713.3972 - val_loss: 14284979.0000 - val_mae: 3173.3418 - 48ms/epoch - 16ms/step\n",
      "Epoch 26/350\n",
      "3/3 - 0s - loss: 12082123.0000 - mae: 2687.5415 - val_loss: 14175713.0000 - val_mae: 3139.8274 - 34ms/epoch - 11ms/step\n",
      "Epoch 27/350\n",
      "3/3 - 0s - loss: 11946472.0000 - mae: 2654.4082 - val_loss: 15159936.0000 - val_mae: 3089.5461 - 37ms/epoch - 12ms/step\n",
      "Epoch 28/350\n",
      "3/3 - 0s - loss: 11886349.0000 - mae: 2655.9866 - val_loss: 14835764.0000 - val_mae: 3179.7402 - 33ms/epoch - 11ms/step\n",
      "Epoch 29/350\n",
      "3/3 - 0s - loss: 12163564.0000 - mae: 2757.6682 - val_loss: 15213832.0000 - val_mae: 3408.2610 - 47ms/epoch - 16ms/step\n",
      "Epoch 30/350\n",
      "3/3 - 0s - loss: 11916083.0000 - mae: 2750.7739 - val_loss: 15922088.0000 - val_mae: 3172.3196 - 36ms/epoch - 12ms/step\n",
      "Epoch 31/350\n",
      "3/3 - 0s - loss: 11963264.0000 - mae: 2700.9419 - val_loss: 15648251.0000 - val_mae: 3227.8909 - 28ms/epoch - 9ms/step\n",
      "Epoch 32/350\n",
      "3/3 - 0s - loss: 11507625.0000 - mae: 2645.1570 - val_loss: 15242245.0000 - val_mae: 3299.6016 - 51ms/epoch - 17ms/step\n",
      "Epoch 33/350\n",
      "3/3 - 0s - loss: 11693338.0000 - mae: 2702.3589 - val_loss: 15165929.0000 - val_mae: 3285.0056 - 33ms/epoch - 11ms/step\n",
      "Epoch 34/350\n",
      "3/3 - 0s - loss: 11610693.0000 - mae: 2683.2180 - val_loss: 14778185.0000 - val_mae: 3041.2783 - 39ms/epoch - 13ms/step\n",
      "Epoch 35/350\n",
      "3/3 - 0s - loss: 12879726.0000 - mae: 2701.3816 - val_loss: 15558353.0000 - val_mae: 3199.3123 - 41ms/epoch - 14ms/step\n",
      "Epoch 36/350\n",
      "3/3 - 0s - loss: 13862701.0000 - mae: 2850.8748 - val_loss: 15246912.0000 - val_mae: 3300.1213 - 43ms/epoch - 14ms/step\n",
      "Epoch 37/350\n",
      "3/3 - 0s - loss: 13032390.0000 - mae: 2788.4604 - val_loss: 16276328.0000 - val_mae: 3137.4407 - 40ms/epoch - 13ms/step\n",
      "Epoch 38/350\n",
      "3/3 - 0s - loss: 16469690.0000 - mae: 2858.2559 - val_loss: 16457051.0000 - val_mae: 3007.6797 - 34ms/epoch - 11ms/step\n",
      "Epoch 39/350\n",
      "3/3 - 0s - loss: 14708211.0000 - mae: 2789.2427 - val_loss: 14897081.0000 - val_mae: 3110.7888 - 33ms/epoch - 11ms/step\n",
      "Epoch 40/350\n",
      "3/3 - 0s - loss: 13403586.0000 - mae: 2936.3723 - val_loss: 14368155.0000 - val_mae: 3334.8828 - 34ms/epoch - 11ms/step\n",
      "Epoch 41/350\n",
      "3/3 - 0s - loss: 11765642.0000 - mae: 2713.5144 - val_loss: 16148043.0000 - val_mae: 3139.3381 - 33ms/epoch - 11ms/step\n",
      "Epoch 42/350\n",
      "3/3 - 0s - loss: 11374559.0000 - mae: 2586.9536 - val_loss: 15916027.0000 - val_mae: 3210.2283 - 35ms/epoch - 12ms/step\n",
      "Epoch 43/350\n",
      "3/3 - 0s - loss: 11123896.0000 - mae: 2577.8079 - val_loss: 13849508.0000 - val_mae: 3222.1895 - 34ms/epoch - 11ms/step\n",
      "Epoch 44/350\n",
      "3/3 - 0s - loss: 11355855.0000 - mae: 2675.2354 - val_loss: 13914120.0000 - val_mae: 3284.0828 - 40ms/epoch - 13ms/step\n",
      "Epoch 45/350\n",
      "3/3 - 0s - loss: 11073937.0000 - mae: 2598.3206 - val_loss: 14173432.0000 - val_mae: 3163.1208 - 33ms/epoch - 11ms/step\n",
      "Epoch 46/350\n",
      "3/3 - 0s - loss: 10791685.0000 - mae: 2551.9875 - val_loss: 13920547.0000 - val_mae: 3238.7878 - 32ms/epoch - 11ms/step\n",
      "Epoch 47/350\n",
      "3/3 - 0s - loss: 10694617.0000 - mae: 2569.1951 - val_loss: 13755451.0000 - val_mae: 3259.4834 - 44ms/epoch - 15ms/step\n",
      "Epoch 48/350\n",
      "3/3 - 0s - loss: 10781874.0000 - mae: 2570.8235 - val_loss: 13391589.0000 - val_mae: 3110.2566 - 37ms/epoch - 12ms/step\n",
      "Epoch 49/350\n",
      "3/3 - 0s - loss: 13921865.0000 - mae: 2734.7644 - val_loss: 13223264.0000 - val_mae: 3208.6252 - 46ms/epoch - 15ms/step\n",
      "Epoch 50/350\n",
      "3/3 - 0s - loss: 11154479.0000 - mae: 2649.3503 - val_loss: 12491267.0000 - val_mae: 3043.2061 - 37ms/epoch - 12ms/step\n",
      "Epoch 51/350\n",
      "3/3 - 0s - loss: 12146820.0000 - mae: 2711.0984 - val_loss: 14182648.0000 - val_mae: 2963.4255 - 46ms/epoch - 15ms/step\n",
      "Epoch 52/350\n",
      "3/3 - 0s - loss: 12591660.0000 - mae: 2628.3604 - val_loss: 12971781.0000 - val_mae: 3020.4746 - 41ms/epoch - 14ms/step\n",
      "Epoch 53/350\n",
      "3/3 - 0s - loss: 13410113.0000 - mae: 2821.7764 - val_loss: 12679255.0000 - val_mae: 3143.6794 - 34ms/epoch - 11ms/step\n",
      "Epoch 54/350\n",
      "3/3 - 0s - loss: 11138651.0000 - mae: 2560.0347 - val_loss: 14630659.0000 - val_mae: 2869.1416 - 66ms/epoch - 22ms/step\n",
      "Epoch 55/350\n",
      "3/3 - 0s - loss: 12835516.0000 - mae: 2706.1023 - val_loss: 14675603.0000 - val_mae: 2854.2766 - 33ms/epoch - 11ms/step\n",
      "Epoch 56/350\n",
      "3/3 - 0s - loss: 11000894.0000 - mae: 2544.1470 - val_loss: 12768931.0000 - val_mae: 3236.5020 - 34ms/epoch - 11ms/step\n",
      "Epoch 57/350\n",
      "3/3 - 0s - loss: 11497551.0000 - mae: 2725.1443 - val_loss: 12437329.0000 - val_mae: 3018.6536 - 34ms/epoch - 11ms/step\n",
      "Epoch 58/350\n",
      "3/3 - 0s - loss: 10732070.0000 - mae: 2496.0205 - val_loss: 13898560.0000 - val_mae: 2828.6824 - 34ms/epoch - 11ms/step\n",
      "Epoch 59/350\n",
      "3/3 - 0s - loss: 10630096.0000 - mae: 2480.0391 - val_loss: 12730357.0000 - val_mae: 2908.5286 - 34ms/epoch - 11ms/step\n",
      "Epoch 60/350\n",
      "3/3 - 0s - loss: 10600618.0000 - mae: 2497.3176 - val_loss: 12612319.0000 - val_mae: 2996.9543 - 34ms/epoch - 11ms/step\n",
      "Epoch 61/350\n",
      "3/3 - 0s - loss: 10569697.0000 - mae: 2529.0623 - val_loss: 12424317.0000 - val_mae: 2938.6621 - 34ms/epoch - 11ms/step\n",
      "Epoch 62/350\n",
      "3/3 - 0s - loss: 10424784.0000 - mae: 2519.5779 - val_loss: 12372765.0000 - val_mae: 2880.9343 - 25ms/epoch - 8ms/step\n"
     ]
    },
    {
     "name": "stdout",
     "output_type": "stream",
     "text": [
      "Epoch 63/350\n",
      "3/3 - 0s - loss: 10030655.0000 - mae: 2460.7913 - val_loss: 12911205.0000 - val_mae: 2823.3499 - 41ms/epoch - 14ms/step\n",
      "Epoch 64/350\n",
      "3/3 - 0s - loss: 10202161.0000 - mae: 2481.4099 - val_loss: 13018656.0000 - val_mae: 2795.6711 - 25ms/epoch - 8ms/step\n",
      "Epoch 65/350\n",
      "3/3 - 0s - loss: 11064590.0000 - mae: 2548.4558 - val_loss: 12490223.0000 - val_mae: 2894.0176 - 49ms/epoch - 16ms/step\n",
      "Epoch 66/350\n",
      "3/3 - 0s - loss: 10801872.0000 - mae: 2580.3933 - val_loss: 14866760.0000 - val_mae: 3141.7998 - 35ms/epoch - 12ms/step\n",
      "Epoch 67/350\n",
      "3/3 - 0s - loss: 11030232.0000 - mae: 2600.5737 - val_loss: 15347208.0000 - val_mae: 3152.4900 - 39ms/epoch - 13ms/step\n",
      "Epoch 68/350\n",
      "3/3 - 0s - loss: 11025348.0000 - mae: 2596.8088 - val_loss: 16749491.0000 - val_mae: 3328.5049 - 33ms/epoch - 11ms/step\n",
      "Epoch 69/350\n",
      "3/3 - 0s - loss: 10857985.0000 - mae: 2581.3970 - val_loss: 16724336.0000 - val_mae: 3314.2910 - 29ms/epoch - 10ms/step\n",
      "Epoch 70/350\n",
      "3/3 - 0s - loss: 10730200.0000 - mae: 2604.8083 - val_loss: 16013429.0000 - val_mae: 3274.4834 - 33ms/epoch - 11ms/step\n",
      "Epoch 71/350\n",
      "3/3 - 0s - loss: 11732609.0000 - mae: 2776.2480 - val_loss: 16018807.0000 - val_mae: 3291.3030 - 34ms/epoch - 11ms/step\n",
      "Epoch 72/350\n",
      "3/3 - 0s - loss: 10960174.0000 - mae: 2586.4043 - val_loss: 17947150.0000 - val_mae: 3305.7234 - 28ms/epoch - 9ms/step\n",
      "Epoch 73/350\n",
      "3/3 - 0s - loss: 11159901.0000 - mae: 2545.5623 - val_loss: 15175640.0000 - val_mae: 3176.8992 - 45ms/epoch - 15ms/step\n",
      "Epoch 74/350\n",
      "3/3 - 0s - loss: 10952371.0000 - mae: 2606.2703 - val_loss: 15306001.0000 - val_mae: 3335.4290 - 34ms/epoch - 11ms/step\n",
      "Epoch 75/350\n",
      "3/3 - 0s - loss: 10694133.0000 - mae: 2612.2688 - val_loss: 16147276.0000 - val_mae: 3135.2385 - 33ms/epoch - 11ms/step\n",
      "Epoch 76/350\n",
      "3/3 - 0s - loss: 11469650.0000 - mae: 2601.2246 - val_loss: 16940934.0000 - val_mae: 3190.0676 - 33ms/epoch - 11ms/step\n",
      "Epoch 77/350\n",
      "3/3 - 0s - loss: 10872676.0000 - mae: 2577.3638 - val_loss: 15603104.0000 - val_mae: 3447.7832 - 42ms/epoch - 14ms/step\n",
      "Epoch 78/350\n",
      "3/3 - 0s - loss: 10602538.0000 - mae: 2646.0364 - val_loss: 15364453.0000 - val_mae: 3270.3350 - 33ms/epoch - 11ms/step\n",
      "Epoch 79/350\n",
      "3/3 - 0s - loss: 9692047.0000 - mae: 2345.3635 - val_loss: 14709353.0000 - val_mae: 3040.9534 - 41ms/epoch - 14ms/step\n",
      "Epoch 80/350\n",
      "3/3 - 0s - loss: 9511494.0000 - mae: 2288.5540 - val_loss: 13647200.0000 - val_mae: 3117.0710 - 41ms/epoch - 14ms/step\n",
      "Epoch 81/350\n",
      "3/3 - 0s - loss: 9056473.0000 - mae: 2387.2932 - val_loss: 13917129.0000 - val_mae: 3048.9736 - 34ms/epoch - 11ms/step\n",
      "Epoch 82/350\n",
      "3/3 - 0s - loss: 9044096.0000 - mae: 2333.6277 - val_loss: 14499211.0000 - val_mae: 3083.6943 - 28ms/epoch - 9ms/step\n",
      "Epoch 83/350\n",
      "3/3 - 0s - loss: 9430154.0000 - mae: 2333.8127 - val_loss: 14855835.0000 - val_mae: 3109.9990 - 47ms/epoch - 16ms/step\n",
      "Epoch 84/350\n",
      "3/3 - 0s - loss: 8402920.0000 - mae: 2252.3042 - val_loss: 15446013.0000 - val_mae: 3267.1887 - 33ms/epoch - 11ms/step\n",
      "Epoch 85/350\n",
      "3/3 - 0s - loss: 9070441.0000 - mae: 2460.9626 - val_loss: 14900667.0000 - val_mae: 3107.9758 - 37ms/epoch - 12ms/step\n",
      "Epoch 86/350\n",
      "3/3 - 0s - loss: 9078950.0000 - mae: 2234.8401 - val_loss: 15652660.0000 - val_mae: 3176.0605 - 38ms/epoch - 13ms/step\n",
      "Epoch 87/350\n",
      "3/3 - 0s - loss: 8701151.0000 - mae: 2258.8850 - val_loss: 14567837.0000 - val_mae: 3014.8435 - 33ms/epoch - 11ms/step\n",
      "Epoch 88/350\n",
      "3/3 - 0s - loss: 8833829.0000 - mae: 2428.1394 - val_loss: 14308675.0000 - val_mae: 2966.2527 - 33ms/epoch - 11ms/step\n",
      "Epoch 89/350\n",
      "3/3 - 0s - loss: 9704132.0000 - mae: 2411.1501 - val_loss: 13550331.0000 - val_mae: 2881.5657 - 29ms/epoch - 10ms/step\n",
      "Epoch 90/350\n",
      "3/3 - 0s - loss: 9599821.0000 - mae: 2368.0657 - val_loss: 13023855.0000 - val_mae: 2840.0637 - 34ms/epoch - 11ms/step\n",
      "Epoch 91/350\n",
      "3/3 - 0s - loss: 9110989.0000 - mae: 2338.5066 - val_loss: 12931947.0000 - val_mae: 2860.0652 - 32ms/epoch - 11ms/step\n",
      "Epoch 92/350\n",
      "3/3 - 0s - loss: 9081255.0000 - mae: 2352.8921 - val_loss: 16432408.0000 - val_mae: 3215.4265 - 41ms/epoch - 14ms/step\n",
      "Epoch 93/350\n",
      "3/3 - 0s - loss: 10220280.0000 - mae: 2501.0100 - val_loss: 16714711.0000 - val_mae: 3435.9189 - 42ms/epoch - 14ms/step\n",
      "Epoch 94/350\n",
      "3/3 - 0s - loss: 10235279.0000 - mae: 2519.8840 - val_loss: 16356747.0000 - val_mae: 3430.3450 - 33ms/epoch - 11ms/step\n",
      "Epoch 95/350\n",
      "3/3 - 0s - loss: 10098162.0000 - mae: 2417.3660 - val_loss: 15760083.0000 - val_mae: 3318.3259 - 33ms/epoch - 11ms/step\n",
      "Epoch 96/350\n",
      "3/3 - 0s - loss: 10059624.0000 - mae: 2452.5447 - val_loss: 15340408.0000 - val_mae: 3149.3586 - 33ms/epoch - 11ms/step\n",
      "Epoch 97/350\n",
      "3/3 - 0s - loss: 10713909.0000 - mae: 2664.7676 - val_loss: 16482363.0000 - val_mae: 3204.8684 - 34ms/epoch - 11ms/step\n",
      "Epoch 98/350\n",
      "3/3 - 0s - loss: 10109304.0000 - mae: 2404.5005 - val_loss: 17333670.0000 - val_mae: 3118.5886 - 33ms/epoch - 11ms/step\n",
      "Epoch 99/350\n",
      "3/3 - 0s - loss: 10845319.0000 - mae: 2469.5498 - val_loss: 15927884.0000 - val_mae: 3272.5242 - 34ms/epoch - 11ms/step\n",
      "Epoch 100/350\n",
      "3/3 - 0s - loss: 9567940.0000 - mae: 2419.5928 - val_loss: 14979392.0000 - val_mae: 2795.6846 - 42ms/epoch - 14ms/step\n",
      "Epoch 101/350\n",
      "3/3 - 0s - loss: 9929222.0000 - mae: 2345.1084 - val_loss: 13740973.0000 - val_mae: 2744.8787 - 41ms/epoch - 14ms/step\n",
      "Epoch 102/350\n",
      "3/3 - 0s - loss: 8516501.0000 - mae: 2310.2729 - val_loss: 13782468.0000 - val_mae: 2951.1335 - 42ms/epoch - 14ms/step\n",
      "Epoch 103/350\n",
      "3/3 - 0s - loss: 8507279.0000 - mae: 2215.9773 - val_loss: 14174819.0000 - val_mae: 2935.1250 - 40ms/epoch - 13ms/step\n",
      "Epoch 104/350\n",
      "3/3 - 0s - loss: 8948767.0000 - mae: 2215.6531 - val_loss: 14819856.0000 - val_mae: 2989.7039 - 42ms/epoch - 14ms/step\n",
      "Epoch 105/350\n",
      "3/3 - 0s - loss: 10116336.0000 - mae: 2446.4106 - val_loss: 16449869.0000 - val_mae: 3328.3811 - 42ms/epoch - 14ms/step\n",
      "Epoch 106/350\n",
      "3/3 - 0s - loss: 12412754.0000 - mae: 2551.5671 - val_loss: 18980338.0000 - val_mae: 3247.4021 - 33ms/epoch - 11ms/step\n",
      "Epoch 107/350\n",
      "3/3 - 0s - loss: 10616094.0000 - mae: 2447.1965 - val_loss: 18224360.0000 - val_mae: 3173.4895 - 30ms/epoch - 10ms/step\n",
      "Epoch 108/350\n",
      "3/3 - 0s - loss: 10231791.0000 - mae: 2475.9460 - val_loss: 18638266.0000 - val_mae: 3334.8342 - 33ms/epoch - 11ms/step\n",
      "Epoch 109/350\n",
      "3/3 - 0s - loss: 10163633.0000 - mae: 2487.2903 - val_loss: 18854554.0000 - val_mae: 3290.8860 - 31ms/epoch - 10ms/step\n",
      "Epoch 110/350\n",
      "3/3 - 0s - loss: 10752532.0000 - mae: 2573.3010 - val_loss: 18024894.0000 - val_mae: 3300.2356 - 36ms/epoch - 12ms/step\n",
      "Epoch 111/350\n",
      "3/3 - 0s - loss: 10399326.0000 - mae: 2517.4460 - val_loss: 17637102.0000 - val_mae: 3240.0178 - 33ms/epoch - 11ms/step\n",
      "Epoch 112/350\n",
      "3/3 - 0s - loss: 9468836.0000 - mae: 2412.4197 - val_loss: 17842962.0000 - val_mae: 3339.5017 - 43ms/epoch - 14ms/step\n",
      "Epoch 113/350\n",
      "3/3 - 0s - loss: 9466885.0000 - mae: 2454.3821 - val_loss: 16467939.0000 - val_mae: 3272.0442 - 33ms/epoch - 11ms/step\n",
      "Epoch 114/350\n",
      "3/3 - 0s - loss: 9593290.0000 - mae: 2467.1973 - val_loss: 16184751.0000 - val_mae: 3361.3704 - 33ms/epoch - 11ms/step\n",
      "Epoch 115/350\n",
      "3/3 - 0s - loss: 9556506.0000 - mae: 2448.0457 - val_loss: 16080093.0000 - val_mae: 3220.4250 - 41ms/epoch - 14ms/step\n",
      "Epoch 116/350\n",
      "3/3 - 0s - loss: 9449687.0000 - mae: 2422.1873 - val_loss: 16229948.0000 - val_mae: 3229.6907 - 31ms/epoch - 10ms/step\n",
      "Epoch 117/350\n",
      "3/3 - 0s - loss: 9897872.0000 - mae: 2509.1418 - val_loss: 15158963.0000 - val_mae: 3217.3254 - 36ms/epoch - 12ms/step\n",
      "Epoch 118/350\n",
      "3/3 - 0s - loss: 11098700.0000 - mae: 2582.0029 - val_loss: 17151056.0000 - val_mae: 3262.5183 - 42ms/epoch - 14ms/step\n",
      "Epoch 119/350\n",
      "3/3 - 0s - loss: 9224743.0000 - mae: 2347.9377 - val_loss: 19500398.0000 - val_mae: 3374.8516 - 33ms/epoch - 11ms/step\n",
      "Epoch 120/350\n",
      "3/3 - 0s - loss: 9495849.0000 - mae: 2362.2114 - val_loss: 18538596.0000 - val_mae: 3284.6726 - 33ms/epoch - 11ms/step\n",
      "Epoch 121/350\n",
      "3/3 - 0s - loss: 8997769.0000 - mae: 2269.0847 - val_loss: 17114420.0000 - val_mae: 3303.3828 - 35ms/epoch - 12ms/step\n",
      "Epoch 122/350\n",
      "3/3 - 0s - loss: 8462010.0000 - mae: 2256.8267 - val_loss: 16841938.0000 - val_mae: 3313.0625 - 33ms/epoch - 11ms/step\n",
      "Epoch 123/350\n",
      "3/3 - 0s - loss: 8497126.0000 - mae: 2272.2095 - val_loss: 17551098.0000 - val_mae: 3356.5461 - 33ms/epoch - 11ms/step\n",
      "Epoch 124/350\n",
      "3/3 - 0s - loss: 8682722.0000 - mae: 2200.7961 - val_loss: 15445447.0000 - val_mae: 3108.9407 - 43ms/epoch - 14ms/step\n"
     ]
    },
    {
     "name": "stdout",
     "output_type": "stream",
     "text": [
      "Epoch 125/350\n",
      "3/3 - 0s - loss: 8221173.5000 - mae: 2171.0662 - val_loss: 15238264.0000 - val_mae: 3169.6453 - 32ms/epoch - 11ms/step\n",
      "Epoch 126/350\n",
      "3/3 - 0s - loss: 10536984.0000 - mae: 2630.6096 - val_loss: 14583852.0000 - val_mae: 3049.2332 - 33ms/epoch - 11ms/step\n",
      "Epoch 127/350\n",
      "3/3 - 0s - loss: 10391273.0000 - mae: 2355.4932 - val_loss: 17110206.0000 - val_mae: 3319.3665 - 41ms/epoch - 14ms/step\n",
      "Epoch 128/350\n",
      "3/3 - 0s - loss: 8836154.0000 - mae: 2197.3125 - val_loss: 15239303.0000 - val_mae: 3240.6787 - 34ms/epoch - 11ms/step\n",
      "Epoch 129/350\n",
      "3/3 - 0s - loss: 10397486.0000 - mae: 2599.9749 - val_loss: 13987216.0000 - val_mae: 3037.5127 - 41ms/epoch - 14ms/step\n",
      "Epoch 130/350\n",
      "3/3 - 0s - loss: 8865588.0000 - mae: 2253.6252 - val_loss: 16971282.0000 - val_mae: 3336.8176 - 33ms/epoch - 11ms/step\n",
      "Epoch 131/350\n",
      "3/3 - 0s - loss: 9582439.0000 - mae: 2355.3237 - val_loss: 14157849.0000 - val_mae: 3114.0295 - 42ms/epoch - 14ms/step\n",
      "Epoch 132/350\n",
      "3/3 - 0s - loss: 9393954.0000 - mae: 2460.3984 - val_loss: 14595557.0000 - val_mae: 3051.3401 - 30ms/epoch - 10ms/step\n",
      "Epoch 133/350\n",
      "3/3 - 0s - loss: 9028478.0000 - mae: 2180.5081 - val_loss: 17725718.0000 - val_mae: 3370.3757 - 33ms/epoch - 11ms/step\n",
      "Epoch 134/350\n",
      "3/3 - 0s - loss: 9307794.0000 - mae: 2344.9124 - val_loss: 15235611.0000 - val_mae: 3141.4949 - 41ms/epoch - 14ms/step\n",
      "Epoch 135/350\n",
      "3/3 - 0s - loss: 9105466.0000 - mae: 2419.6562 - val_loss: 14824473.0000 - val_mae: 3049.9509 - 33ms/epoch - 11ms/step\n",
      "Epoch 136/350\n",
      "3/3 - 0s - loss: 9089605.0000 - mae: 2212.9077 - val_loss: 15599141.0000 - val_mae: 3189.7688 - 29ms/epoch - 10ms/step\n",
      "Epoch 137/350\n",
      "3/3 - 0s - loss: 8906005.0000 - mae: 2281.6033 - val_loss: 14350633.0000 - val_mae: 3124.6946 - 33ms/epoch - 11ms/step\n",
      "Epoch 138/350\n",
      "3/3 - 0s - loss: 9413510.0000 - mae: 2372.5940 - val_loss: 15201021.0000 - val_mae: 3105.0647 - 33ms/epoch - 11ms/step\n",
      "Epoch 139/350\n",
      "3/3 - 0s - loss: 8562985.0000 - mae: 2205.6868 - val_loss: 14393607.0000 - val_mae: 3068.5745 - 42ms/epoch - 14ms/step\n",
      "Epoch 140/350\n",
      "3/3 - 0s - loss: 8508813.0000 - mae: 2258.9624 - val_loss: 14481083.0000 - val_mae: 3044.6960 - 33ms/epoch - 11ms/step\n",
      "Epoch 141/350\n",
      "3/3 - 0s - loss: 8642317.0000 - mae: 2210.8477 - val_loss: 15436075.0000 - val_mae: 3113.7493 - 41ms/epoch - 14ms/step\n",
      "Epoch 142/350\n",
      "3/3 - 0s - loss: 8722010.0000 - mae: 2249.1572 - val_loss: 14546452.0000 - val_mae: 3093.3926 - 29ms/epoch - 10ms/step\n",
      "Epoch 143/350\n",
      "3/3 - 0s - loss: 8401606.0000 - mae: 2254.7693 - val_loss: 15340512.0000 - val_mae: 3138.7395 - 46ms/epoch - 15ms/step\n",
      "Epoch 144/350\n",
      "3/3 - 0s - loss: 8939012.0000 - mae: 2189.5295 - val_loss: 14876776.0000 - val_mae: 3034.6589 - 41ms/epoch - 14ms/step\n",
      "Epoch 145/350\n",
      "3/3 - 0s - loss: 8566724.0000 - mae: 2252.9866 - val_loss: 14689856.0000 - val_mae: 3131.8533 - 29ms/epoch - 10ms/step\n",
      "Epoch 146/350\n",
      "3/3 - 0s - loss: 8542530.0000 - mae: 2279.6277 - val_loss: 15790309.0000 - val_mae: 3201.5071 - 34ms/epoch - 11ms/step\n",
      "Epoch 147/350\n",
      "3/3 - 0s - loss: 8631682.0000 - mae: 2141.8301 - val_loss: 14530441.0000 - val_mae: 3035.7783 - 46ms/epoch - 15ms/step\n",
      "Epoch 148/350\n",
      "3/3 - 0s - loss: 9015590.0000 - mae: 2362.0708 - val_loss: 14306784.0000 - val_mae: 3106.9641 - 41ms/epoch - 14ms/step\n",
      "Epoch 149/350\n",
      "3/3 - 0s - loss: 8193142.0000 - mae: 2108.7266 - val_loss: 16239403.0000 - val_mae: 3278.1055 - 34ms/epoch - 11ms/step\n",
      "Epoch 150/350\n",
      "3/3 - 0s - loss: 8602489.0000 - mae: 2140.2332 - val_loss: 14442167.0000 - val_mae: 3071.0994 - 33ms/epoch - 11ms/step\n",
      "Epoch 151/350\n",
      "3/3 - 0s - loss: 8179504.5000 - mae: 2205.3157 - val_loss: 14580815.0000 - val_mae: 3117.9551 - 33ms/epoch - 11ms/step\n",
      "Epoch 152/350\n",
      "3/3 - 0s - loss: 8404917.0000 - mae: 2265.9167 - val_loss: 14961249.0000 - val_mae: 3058.9062 - 34ms/epoch - 11ms/step\n",
      "Epoch 153/350\n",
      "3/3 - 0s - loss: 8553133.0000 - mae: 2162.8059 - val_loss: 14884353.0000 - val_mae: 3043.3623 - 42ms/epoch - 14ms/step\n",
      "Epoch 154/350\n",
      "3/3 - 0s - loss: 8343130.0000 - mae: 2217.6045 - val_loss: 14604715.0000 - val_mae: 3103.4297 - 33ms/epoch - 11ms/step\n",
      "Epoch 155/350\n",
      "3/3 - 0s - loss: 8237400.0000 - mae: 2189.7686 - val_loss: 15485519.0000 - val_mae: 3216.8899 - 33ms/epoch - 11ms/step\n",
      "Epoch 156/350\n",
      "3/3 - 0s - loss: 8629114.0000 - mae: 2146.2156 - val_loss: 14580771.0000 - val_mae: 3079.8457 - 30ms/epoch - 10ms/step\n",
      "Epoch 157/350\n",
      "3/3 - 0s - loss: 8138738.5000 - mae: 2238.0720 - val_loss: 14837116.0000 - val_mae: 3134.8818 - 37ms/epoch - 12ms/step\n",
      "Epoch 158/350\n",
      "3/3 - 0s - loss: 8377666.0000 - mae: 2216.6531 - val_loss: 15360768.0000 - val_mae: 3195.7302 - 34ms/epoch - 11ms/step\n",
      "Epoch 159/350\n",
      "3/3 - 0s - loss: 8190062.5000 - mae: 2131.9487 - val_loss: 14211631.0000 - val_mae: 3074.3926 - 41ms/epoch - 14ms/step\n",
      "Epoch 160/350\n",
      "3/3 - 0s - loss: 7980737.5000 - mae: 2160.3447 - val_loss: 14643209.0000 - val_mae: 3070.5273 - 30ms/epoch - 10ms/step\n",
      "Epoch 161/350\n",
      "3/3 - 0s - loss: 8134227.0000 - mae: 2087.7537 - val_loss: 14952728.0000 - val_mae: 3126.2324 - 33ms/epoch - 11ms/step\n",
      "Epoch 162/350\n",
      "3/3 - 0s - loss: 8145891.0000 - mae: 2162.2329 - val_loss: 14478377.0000 - val_mae: 3092.6819 - 33ms/epoch - 11ms/step\n",
      "Epoch 163/350\n",
      "3/3 - 0s - loss: 8204043.5000 - mae: 2208.2422 - val_loss: 15464621.0000 - val_mae: 3222.3860 - 41ms/epoch - 14ms/step\n",
      "Epoch 164/350\n",
      "3/3 - 0s - loss: 8505468.0000 - mae: 2139.2341 - val_loss: 15123768.0000 - val_mae: 3160.5801 - 31ms/epoch - 10ms/step\n",
      "Epoch 165/350\n",
      "3/3 - 0s - loss: 8101722.5000 - mae: 2182.4856 - val_loss: 14922656.0000 - val_mae: 3147.0652 - 36ms/epoch - 12ms/step\n",
      "Epoch 166/350\n",
      "3/3 - 0s - loss: 8098118.5000 - mae: 2208.6548 - val_loss: 16213584.0000 - val_mae: 3306.5078 - 35ms/epoch - 12ms/step\n",
      "Epoch 167/350\n",
      "3/3 - 0s - loss: 8662278.0000 - mae: 2135.1912 - val_loss: 14595336.0000 - val_mae: 3070.1311 - 40ms/epoch - 13ms/step\n",
      "Epoch 168/350\n",
      "3/3 - 0s - loss: 8097935.5000 - mae: 2244.0566 - val_loss: 14407547.0000 - val_mae: 3103.0276 - 34ms/epoch - 11ms/step\n",
      "Epoch 169/350\n",
      "3/3 - 0s - loss: 7886612.5000 - mae: 2103.9631 - val_loss: 15383167.0000 - val_mae: 3243.7051 - 33ms/epoch - 11ms/step\n",
      "Epoch 170/350\n",
      "3/3 - 0s - loss: 8075485.5000 - mae: 2066.7483 - val_loss: 14518849.0000 - val_mae: 3082.7334 - 34ms/epoch - 11ms/step\n",
      "Epoch 171/350\n",
      "3/3 - 0s - loss: 8025202.0000 - mae: 2189.4731 - val_loss: 14610632.0000 - val_mae: 3095.3250 - 33ms/epoch - 11ms/step\n",
      "Epoch 172/350\n",
      "3/3 - 0s - loss: 7643423.0000 - mae: 2070.5125 - val_loss: 16146784.0000 - val_mae: 3321.2034 - 33ms/epoch - 11ms/step\n",
      "Epoch 173/350\n",
      "3/3 - 0s - loss: 8022556.0000 - mae: 2047.4990 - val_loss: 14736884.0000 - val_mae: 3071.0007 - 33ms/epoch - 11ms/step\n",
      "Epoch 174/350\n",
      "3/3 - 0s - loss: 7912460.0000 - mae: 2135.0754 - val_loss: 14567448.0000 - val_mae: 3075.9060 - 33ms/epoch - 11ms/step\n",
      "Epoch 175/350\n",
      "3/3 - 0s - loss: 7867565.0000 - mae: 2042.3936 - val_loss: 15501749.0000 - val_mae: 3237.9531 - 41ms/epoch - 14ms/step\n",
      "Epoch 176/350\n",
      "3/3 - 0s - loss: 7862861.5000 - mae: 2091.0974 - val_loss: 15012645.0000 - val_mae: 3102.6980 - 34ms/epoch - 11ms/step\n",
      "Epoch 177/350\n",
      "3/3 - 0s - loss: 7823990.0000 - mae: 2137.0449 - val_loss: 14528920.0000 - val_mae: 3068.7146 - 41ms/epoch - 14ms/step\n",
      "Epoch 178/350\n",
      "3/3 - 0s - loss: 9051848.0000 - mae: 2200.6748 - val_loss: 14601573.0000 - val_mae: 3111.7209 - 28ms/epoch - 9ms/step\n",
      "Epoch 179/350\n",
      "3/3 - 0s - loss: 8199204.5000 - mae: 2228.2632 - val_loss: 14908383.0000 - val_mae: 3162.0085 - 48ms/epoch - 16ms/step\n",
      "Epoch 180/350\n",
      "3/3 - 0s - loss: 8265188.0000 - mae: 2146.8557 - val_loss: 16242019.0000 - val_mae: 3383.2419 - 33ms/epoch - 11ms/step\n",
      "Epoch 181/350\n",
      "3/3 - 0s - loss: 8264400.0000 - mae: 2078.5996 - val_loss: 14476079.0000 - val_mae: 3132.4099 - 41ms/epoch - 14ms/step\n",
      "Epoch 182/350\n",
      "3/3 - 0s - loss: 8585943.0000 - mae: 2334.8533 - val_loss: 14405352.0000 - val_mae: 3066.7900 - 31ms/epoch - 10ms/step\n",
      "Epoch 183/350\n",
      "3/3 - 0s - loss: 8780752.0000 - mae: 2117.8279 - val_loss: 16304900.0000 - val_mae: 3384.6609 - 33ms/epoch - 11ms/step\n",
      "Epoch 184/350\n",
      "3/3 - 0s - loss: 8183715.0000 - mae: 2144.1130 - val_loss: 15084621.0000 - val_mae: 3167.5479 - 26ms/epoch - 9ms/step\n",
      "Epoch 185/350\n",
      "3/3 - 0s - loss: 8448388.0000 - mae: 2264.6091 - val_loss: 15337749.0000 - val_mae: 3262.3254 - 49ms/epoch - 16ms/step\n",
      "Epoch 186/350\n",
      "3/3 - 0s - loss: 7846239.5000 - mae: 2067.1772 - val_loss: 14597020.0000 - val_mae: 3082.5696 - 33ms/epoch - 11ms/step\n"
     ]
    },
    {
     "name": "stdout",
     "output_type": "stream",
     "text": [
      "Epoch 187/350\n",
      "3/3 - 0s - loss: 7557315.0000 - mae: 2056.3235 - val_loss: 14981235.0000 - val_mae: 3167.4343 - 29ms/epoch - 10ms/step\n",
      "Epoch 188/350\n",
      "3/3 - 0s - loss: 7632835.5000 - mae: 2030.0481 - val_loss: 15058936.0000 - val_mae: 3196.1057 - 46ms/epoch - 15ms/step\n",
      "Epoch 189/350\n",
      "3/3 - 0s - loss: 7722204.0000 - mae: 2072.5486 - val_loss: 14822085.0000 - val_mae: 3105.7747 - 42ms/epoch - 14ms/step\n",
      "Epoch 190/350\n",
      "3/3 - 0s - loss: 7538117.0000 - mae: 2035.1566 - val_loss: 15068161.0000 - val_mae: 3199.4609 - 30ms/epoch - 10ms/step\n",
      "Epoch 191/350\n",
      "3/3 - 0s - loss: 7677254.5000 - mae: 1998.3231 - val_loss: 14433560.0000 - val_mae: 3094.2441 - 45ms/epoch - 15ms/step\n",
      "Epoch 192/350\n",
      "3/3 - 0s - loss: 7709647.5000 - mae: 2123.8713 - val_loss: 14199360.0000 - val_mae: 3080.5215 - 41ms/epoch - 14ms/step\n",
      "Epoch 193/350\n",
      "3/3 - 0s - loss: 7499404.5000 - mae: 2007.3132 - val_loss: 14896217.0000 - val_mae: 3219.3313 - 34ms/epoch - 11ms/step\n",
      "Epoch 194/350\n",
      "3/3 - 0s - loss: 7770104.5000 - mae: 2093.4077 - val_loss: 14497937.0000 - val_mae: 3113.4998 - 33ms/epoch - 11ms/step\n",
      "Epoch 195/350\n",
      "3/3 - 0s - loss: 7431526.0000 - mae: 2041.0232 - val_loss: 14653907.0000 - val_mae: 3137.7092 - 38ms/epoch - 13ms/step\n",
      "Epoch 196/350\n",
      "3/3 - 0s - loss: 7515578.5000 - mae: 2003.8793 - val_loss: 14456137.0000 - val_mae: 3105.3223 - 46ms/epoch - 15ms/step\n",
      "Epoch 197/350\n",
      "3/3 - 0s - loss: 7544716.5000 - mae: 2078.1631 - val_loss: 14492916.0000 - val_mae: 3110.1797 - 32ms/epoch - 11ms/step\n",
      "Epoch 198/350\n",
      "3/3 - 0s - loss: 7527917.5000 - mae: 2073.8523 - val_loss: 14884963.0000 - val_mae: 3229.3914 - 32ms/epoch - 11ms/step\n",
      "Epoch 199/350\n",
      "3/3 - 0s - loss: 8075604.5000 - mae: 2157.3594 - val_loss: 14585564.0000 - val_mae: 3129.0742 - 36ms/epoch - 12ms/step\n",
      "Epoch 200/350\n",
      "3/3 - 0s - loss: 7845206.5000 - mae: 2038.3333 - val_loss: 14998140.0000 - val_mae: 3208.8643 - 29ms/epoch - 10ms/step\n",
      "Epoch 201/350\n",
      "3/3 - 0s - loss: 8123756.5000 - mae: 2209.6392 - val_loss: 14934483.0000 - val_mae: 3127.4138 - 42ms/epoch - 14ms/step\n",
      "Epoch 202/350\n",
      "3/3 - 0s - loss: 7519187.5000 - mae: 2016.9440 - val_loss: 16363813.0000 - val_mae: 3453.9963 - 39ms/epoch - 13ms/step\n",
      "Epoch 203/350\n",
      "3/3 - 0s - loss: 7875717.5000 - mae: 2073.0298 - val_loss: 14551805.0000 - val_mae: 3126.1941 - 45ms/epoch - 15ms/step\n",
      "Epoch 204/350\n",
      "3/3 - 0s - loss: 7669437.0000 - mae: 2096.4514 - val_loss: 14912460.0000 - val_mae: 3248.2468 - 32ms/epoch - 11ms/step\n",
      "Epoch 205/350\n",
      "3/3 - 0s - loss: 7904529.5000 - mae: 2019.6748 - val_loss: 14835649.0000 - val_mae: 3162.2600 - 32ms/epoch - 11ms/step\n",
      "Epoch 206/350\n",
      "3/3 - 0s - loss: 7529866.0000 - mae: 2138.6377 - val_loss: 14743888.0000 - val_mae: 3124.9285 - 40ms/epoch - 13ms/step\n",
      "Epoch 207/350\n",
      "3/3 - 0s - loss: 7379751.5000 - mae: 2043.0118 - val_loss: 15231216.0000 - val_mae: 3311.4832 - 32ms/epoch - 11ms/step\n",
      "Epoch 208/350\n",
      "3/3 - 0s - loss: 7489722.5000 - mae: 1987.2579 - val_loss: 14491189.0000 - val_mae: 3123.7126 - 40ms/epoch - 13ms/step\n",
      "Epoch 209/350\n",
      "3/3 - 0s - loss: 7514936.5000 - mae: 2063.3853 - val_loss: 14934867.0000 - val_mae: 3173.6047 - 40ms/epoch - 13ms/step\n",
      "Epoch 210/350\n",
      "3/3 - 0s - loss: 7333165.5000 - mae: 1992.8632 - val_loss: 15036404.0000 - val_mae: 3219.4719 - 33ms/epoch - 11ms/step\n",
      "Epoch 211/350\n",
      "3/3 - 0s - loss: 7357134.0000 - mae: 1996.4751 - val_loss: 14883999.0000 - val_mae: 3196.9216 - 40ms/epoch - 13ms/step\n",
      "Epoch 212/350\n",
      "3/3 - 0s - loss: 7267719.0000 - mae: 1973.3632 - val_loss: 14836124.0000 - val_mae: 3220.5789 - 32ms/epoch - 11ms/step\n",
      "Epoch 213/350\n",
      "3/3 - 0s - loss: 7285709.5000 - mae: 1963.5615 - val_loss: 14678211.0000 - val_mae: 3141.8059 - 40ms/epoch - 13ms/step\n",
      "Epoch 214/350\n",
      "3/3 - 0s - loss: 7303344.5000 - mae: 2044.9709 - val_loss: 14833241.0000 - val_mae: 3172.6204 - 40ms/epoch - 13ms/step\n",
      "Epoch 215/350\n",
      "3/3 - 0s - loss: 7415528.0000 - mae: 1993.3907 - val_loss: 14586852.0000 - val_mae: 3155.2903 - 34ms/epoch - 11ms/step\n",
      "Epoch 216/350\n",
      "3/3 - 0s - loss: 7341884.5000 - mae: 2041.2014 - val_loss: 14352655.0000 - val_mae: 3111.5967 - 42ms/epoch - 14ms/step\n",
      "Epoch 217/350\n",
      "3/3 - 0s - loss: 7482105.0000 - mae: 2015.3506 - val_loss: 14882273.0000 - val_mae: 3274.2917 - 40ms/epoch - 13ms/step\n",
      "Epoch 218/350\n",
      "3/3 - 0s - loss: 7302810.5000 - mae: 2025.7863 - val_loss: 14452589.0000 - val_mae: 3144.6023 - 40ms/epoch - 13ms/step\n",
      "Epoch 219/350\n",
      "3/3 - 0s - loss: 7420267.0000 - mae: 2101.3889 - val_loss: 15359696.0000 - val_mae: 3355.2214 - 36ms/epoch - 12ms/step\n",
      "Epoch 220/350\n",
      "3/3 - 0s - loss: 7737048.0000 - mae: 2016.7487 - val_loss: 14751340.0000 - val_mae: 3230.8328 - 32ms/epoch - 11ms/step\n",
      "Epoch 221/350\n",
      "3/3 - 0s - loss: 7898214.5000 - mae: 2133.2764 - val_loss: 14508492.0000 - val_mae: 3150.1418 - 32ms/epoch - 11ms/step\n",
      "Epoch 222/350\n",
      "3/3 - 0s - loss: 7150505.0000 - mae: 1937.0291 - val_loss: 15370808.0000 - val_mae: 3369.5598 - 40ms/epoch - 13ms/step\n",
      "Epoch 223/350\n",
      "3/3 - 0s - loss: 7219990.5000 - mae: 1957.6929 - val_loss: 14472944.0000 - val_mae: 3155.7627 - 40ms/epoch - 13ms/step\n",
      "Epoch 224/350\n",
      "3/3 - 0s - loss: 7472558.5000 - mae: 2116.6396 - val_loss: 14377259.0000 - val_mae: 3126.4727 - 48ms/epoch - 16ms/step\n",
      "Epoch 225/350\n",
      "3/3 - 0s - loss: 7511602.0000 - mae: 1998.0542 - val_loss: 14824641.0000 - val_mae: 3261.2805 - 38ms/epoch - 13ms/step\n",
      "Epoch 226/350\n",
      "3/3 - 0s - loss: 7261487.0000 - mae: 1997.5398 - val_loss: 14458459.0000 - val_mae: 3158.6409 - 29ms/epoch - 10ms/step\n",
      "Epoch 227/350\n",
      "3/3 - 0s - loss: 7165647.0000 - mae: 2010.5933 - val_loss: 15294453.0000 - val_mae: 3361.4668 - 31ms/epoch - 10ms/step\n",
      "Epoch 228/350\n",
      "3/3 - 0s - loss: 7515829.5000 - mae: 1967.2843 - val_loss: 14539705.0000 - val_mae: 3134.6458 - 40ms/epoch - 13ms/step\n",
      "Epoch 229/350\n",
      "3/3 - 0s - loss: 7138698.5000 - mae: 2025.5485 - val_loss: 14724608.0000 - val_mae: 3187.2253 - 40ms/epoch - 13ms/step\n",
      "Epoch 230/350\n",
      "3/3 - 0s - loss: 7632616.0000 - mae: 2033.8206 - val_loss: 14579631.0000 - val_mae: 3176.0488 - 37ms/epoch - 12ms/step\n",
      "Epoch 231/350\n",
      "3/3 - 0s - loss: 7506352.0000 - mae: 2111.5854 - val_loss: 14409789.0000 - val_mae: 3134.7263 - 33ms/epoch - 11ms/step\n",
      "Epoch 232/350\n",
      "3/3 - 0s - loss: 7161690.0000 - mae: 1952.5883 - val_loss: 15158363.0000 - val_mae: 3365.0662 - 40ms/epoch - 13ms/step\n",
      "Epoch 233/350\n",
      "3/3 - 0s - loss: 7275330.0000 - mae: 1971.0354 - val_loss: 14666616.0000 - val_mae: 3177.2561 - 32ms/epoch - 11ms/step\n",
      "Epoch 234/350\n",
      "3/3 - 0s - loss: 7355731.5000 - mae: 2092.0308 - val_loss: 15118416.0000 - val_mae: 3344.5820 - 32ms/epoch - 11ms/step\n",
      "Epoch 235/350\n",
      "3/3 - 0s - loss: 7347557.5000 - mae: 1991.5295 - val_loss: 14440459.0000 - val_mae: 3158.1843 - 36ms/epoch - 12ms/step\n",
      "Epoch 236/350\n",
      "3/3 - 0s - loss: 7185273.5000 - mae: 1993.8669 - val_loss: 14640932.0000 - val_mae: 3273.2703 - 36ms/epoch - 12ms/step\n",
      "Epoch 237/350\n",
      "3/3 - 0s - loss: 7136044.5000 - mae: 1934.0184 - val_loss: 14464355.0000 - val_mae: 3160.3093 - 40ms/epoch - 13ms/step\n",
      "Epoch 238/350\n",
      "3/3 - 0s - loss: 7129016.5000 - mae: 2037.3344 - val_loss: 14288545.0000 - val_mae: 3127.3918 - 26ms/epoch - 9ms/step\n",
      "Epoch 239/350\n",
      "3/3 - 0s - loss: 7172106.0000 - mae: 2009.0447 - val_loss: 15228888.0000 - val_mae: 3389.9250 - 48ms/epoch - 16ms/step\n",
      "Epoch 240/350\n",
      "3/3 - 0s - loss: 7023844.5000 - mae: 1925.8962 - val_loss: 14611683.0000 - val_mae: 3172.2932 - 32ms/epoch - 11ms/step\n",
      "Epoch 241/350\n",
      "3/3 - 0s - loss: 7494860.0000 - mae: 2158.5137 - val_loss: 15335660.0000 - val_mae: 3282.7551 - 33ms/epoch - 11ms/step\n",
      "Epoch 242/350\n",
      "3/3 - 0s - loss: 7023565.5000 - mae: 1914.3577 - val_loss: 15841720.0000 - val_mae: 3434.0735 - 37ms/epoch - 12ms/step\n",
      "Epoch 243/350\n",
      "3/3 - 0s - loss: 7231433.0000 - mae: 1973.6914 - val_loss: 15719800.0000 - val_mae: 3326.9934 - 29ms/epoch - 10ms/step\n",
      "Epoch 244/350\n",
      "3/3 - 0s - loss: 7155623.5000 - mae: 1966.4869 - val_loss: 16805798.0000 - val_mae: 3567.1594 - 47ms/epoch - 16ms/step\n",
      "Epoch 245/350\n",
      "3/3 - 0s - loss: 6860209.0000 - mae: 1889.1368 - val_loss: 14934965.0000 - val_mae: 3232.5608 - 37ms/epoch - 12ms/step\n",
      "Epoch 246/350\n",
      "3/3 - 0s - loss: 7524292.0000 - mae: 2043.0873 - val_loss: 15389717.0000 - val_mae: 3349.8770 - 29ms/epoch - 10ms/step\n",
      "Epoch 247/350\n",
      "3/3 - 0s - loss: 7763778.0000 - mae: 2134.7871 - val_loss: 14923309.0000 - val_mae: 3256.8274 - 33ms/epoch - 11ms/step\n",
      "Epoch 248/350\n",
      "3/3 - 0s - loss: 8195719.0000 - mae: 2097.5706 - val_loss: 14919180.0000 - val_mae: 3333.6887 - 34ms/epoch - 11ms/step\n"
     ]
    },
    {
     "name": "stdout",
     "output_type": "stream",
     "text": [
      "Epoch 249/350\n",
      "3/3 - 0s - loss: 7263588.5000 - mae: 2137.0542 - val_loss: 15107445.0000 - val_mae: 3264.2031 - 36ms/epoch - 12ms/step\n",
      "Epoch 250/350\n",
      "3/3 - 0s - loss: 7609160.5000 - mae: 2085.1580 - val_loss: 16162588.0000 - val_mae: 3482.6992 - 34ms/epoch - 11ms/step\n",
      "Epoch 251/350\n",
      "3/3 - 0s - loss: 7272871.5000 - mae: 2006.4822 - val_loss: 14368753.0000 - val_mae: 3106.2012 - 37ms/epoch - 12ms/step\n",
      "Epoch 252/350\n",
      "3/3 - 0s - loss: 7308085.5000 - mae: 2118.7590 - val_loss: 15212716.0000 - val_mae: 3301.6992 - 49ms/epoch - 16ms/step\n",
      "Epoch 253/350\n",
      "3/3 - 0s - loss: 6969843.5000 - mae: 1916.1051 - val_loss: 14307279.0000 - val_mae: 3192.7449 - 38ms/epoch - 13ms/step\n",
      "Epoch 254/350\n",
      "3/3 - 0s - loss: 6603106.0000 - mae: 1893.1998 - val_loss: 17704684.0000 - val_mae: 3567.8477 - 41ms/epoch - 14ms/step\n",
      "Epoch 255/350\n",
      "3/3 - 0s - loss: 7300076.5000 - mae: 2136.3452 - val_loss: 15448727.0000 - val_mae: 3338.4973 - 40ms/epoch - 13ms/step\n",
      "Epoch 256/350\n",
      "3/3 - 0s - loss: 7264856.5000 - mae: 2043.0001 - val_loss: 15723259.0000 - val_mae: 3377.2197 - 32ms/epoch - 11ms/step\n",
      "Epoch 257/350\n",
      "3/3 - 0s - loss: 7335950.0000 - mae: 2086.2781 - val_loss: 15810264.0000 - val_mae: 3372.7800 - 32ms/epoch - 11ms/step\n",
      "Epoch 258/350\n",
      "3/3 - 0s - loss: 7688640.0000 - mae: 2137.8076 - val_loss: 15544037.0000 - val_mae: 3398.1982 - 32ms/epoch - 11ms/step\n",
      "Epoch 259/350\n",
      "3/3 - 0s - loss: 9272462.0000 - mae: 2315.9919 - val_loss: 14861096.0000 - val_mae: 3274.3145 - 32ms/epoch - 11ms/step\n",
      "Epoch 260/350\n",
      "3/3 - 0s - loss: 8739433.0000 - mae: 2384.6052 - val_loss: 14842637.0000 - val_mae: 3245.0657 - 40ms/epoch - 13ms/step\n",
      "Epoch 261/350\n",
      "3/3 - 0s - loss: 7549272.0000 - mae: 2129.1780 - val_loss: 16952002.0000 - val_mae: 3436.0449 - 32ms/epoch - 11ms/step\n",
      "Epoch 262/350\n",
      "3/3 - 0s - loss: 8841336.0000 - mae: 2273.8420 - val_loss: 14986280.0000 - val_mae: 3245.7351 - 40ms/epoch - 13ms/step\n",
      "Epoch 263/350\n",
      "3/3 - 0s - loss: 7562304.5000 - mae: 2149.2190 - val_loss: 14909867.0000 - val_mae: 3312.7188 - 32ms/epoch - 11ms/step\n",
      "Epoch 264/350\n",
      "3/3 - 0s - loss: 8034993.0000 - mae: 2115.1404 - val_loss: 13956032.0000 - val_mae: 3201.3386 - 40ms/epoch - 13ms/step\n",
      "Epoch 265/350\n",
      "3/3 - 0s - loss: 8498127.0000 - mae: 2324.5483 - val_loss: 14079112.0000 - val_mae: 3206.5977 - 33ms/epoch - 11ms/step\n",
      "Epoch 266/350\n",
      "3/3 - 0s - loss: 7836733.0000 - mae: 2124.4434 - val_loss: 13904419.0000 - val_mae: 3193.7668 - 40ms/epoch - 13ms/step\n",
      "Epoch 267/350\n",
      "3/3 - 0s - loss: 8525844.0000 - mae: 2207.2971 - val_loss: 12307347.0000 - val_mae: 2935.5449 - 32ms/epoch - 11ms/step\n",
      "Epoch 268/350\n",
      "3/3 - 0s - loss: 8685713.0000 - mae: 2280.4082 - val_loss: 12505275.0000 - val_mae: 3005.4678 - 32ms/epoch - 11ms/step\n",
      "Epoch 269/350\n",
      "3/3 - 0s - loss: 8238628.5000 - mae: 2248.5015 - val_loss: 12538093.0000 - val_mae: 3021.5593 - 40ms/epoch - 13ms/step\n",
      "Epoch 270/350\n",
      "3/3 - 0s - loss: 7431780.0000 - mae: 2150.9880 - val_loss: 12781692.0000 - val_mae: 3091.1250 - 32ms/epoch - 11ms/step\n",
      "Epoch 271/350\n",
      "3/3 - 0s - loss: 7266031.0000 - mae: 2054.5073 - val_loss: 19657570.0000 - val_mae: 3610.9153 - 40ms/epoch - 13ms/step\n",
      "Epoch 272/350\n",
      "3/3 - 0s - loss: 8050015.5000 - mae: 2120.8779 - val_loss: 15208573.0000 - val_mae: 3153.1321 - 32ms/epoch - 11ms/step\n",
      "Epoch 273/350\n",
      "3/3 - 0s - loss: 8307889.0000 - mae: 2239.7651 - val_loss: 13731155.0000 - val_mae: 2963.1350 - 40ms/epoch - 13ms/step\n",
      "Epoch 274/350\n",
      "3/3 - 0s - loss: 7564181.0000 - mae: 2101.4712 - val_loss: 14455179.0000 - val_mae: 2926.9402 - 32ms/epoch - 11ms/step\n",
      "Epoch 275/350\n",
      "3/3 - 0s - loss: 7519321.5000 - mae: 2117.8198 - val_loss: 13071176.0000 - val_mae: 2924.8972 - 38ms/epoch - 13ms/step\n",
      "Epoch 276/350\n",
      "3/3 - 0s - loss: 8234143.0000 - mae: 2179.3318 - val_loss: 14079785.0000 - val_mae: 2929.0413 - 32ms/epoch - 11ms/step\n",
      "Epoch 277/350\n",
      "3/3 - 0s - loss: 8038480.0000 - mae: 2108.7659 - val_loss: 12337744.0000 - val_mae: 2769.8293 - 32ms/epoch - 11ms/step\n",
      "Epoch 278/350\n",
      "3/3 - 0s - loss: 8288627.5000 - mae: 2076.8267 - val_loss: 13509661.0000 - val_mae: 2742.7263 - 36ms/epoch - 12ms/step\n",
      "Epoch 279/350\n",
      "3/3 - 0s - loss: 7140218.5000 - mae: 1995.2339 - val_loss: 12096381.0000 - val_mae: 2831.8525 - 33ms/epoch - 11ms/step\n",
      "Epoch 280/350\n",
      "3/3 - 0s - loss: 7082342.5000 - mae: 2123.5283 - val_loss: 17908442.0000 - val_mae: 3509.6152 - 33ms/epoch - 11ms/step\n",
      "Epoch 281/350\n",
      "3/3 - 0s - loss: 7341439.5000 - mae: 2023.3315 - val_loss: 17437826.0000 - val_mae: 3443.1445 - 30ms/epoch - 10ms/step\n",
      "Epoch 282/350\n",
      "3/3 - 0s - loss: 7450302.5000 - mae: 2085.1328 - val_loss: 17131622.0000 - val_mae: 3420.2859 - 22ms/epoch - 7ms/step\n",
      "Epoch 283/350\n",
      "3/3 - 0s - loss: 7861599.0000 - mae: 2053.5547 - val_loss: 12794681.0000 - val_mae: 3051.1924 - 33ms/epoch - 11ms/step\n",
      "Epoch 284/350\n",
      "3/3 - 0s - loss: 7660139.0000 - mae: 2107.0645 - val_loss: 12934915.0000 - val_mae: 3114.5095 - 52ms/epoch - 17ms/step\n",
      "Epoch 285/350\n",
      "3/3 - 0s - loss: 7689734.5000 - mae: 2063.7256 - val_loss: 12698512.0000 - val_mae: 3050.5684 - 40ms/epoch - 13ms/step\n",
      "Epoch 286/350\n",
      "3/3 - 0s - loss: 7704526.0000 - mae: 2041.4852 - val_loss: 12613965.0000 - val_mae: 3088.1953 - 30ms/epoch - 10ms/step\n",
      "Epoch 287/350\n",
      "3/3 - 0s - loss: 7638040.0000 - mae: 2122.3184 - val_loss: 12407811.0000 - val_mae: 2971.9348 - 38ms/epoch - 13ms/step\n",
      "Epoch 288/350\n",
      "3/3 - 0s - loss: 7326658.0000 - mae: 2045.0178 - val_loss: 12655109.0000 - val_mae: 2998.3958 - 19ms/epoch - 6ms/step\n",
      "Epoch 289/350\n",
      "3/3 - 0s - loss: 7840216.0000 - mae: 2074.7769 - val_loss: 12751569.0000 - val_mae: 3000.8779 - 34ms/epoch - 11ms/step\n",
      "Epoch 290/350\n",
      "3/3 - 0s - loss: 7594925.5000 - mae: 2093.7688 - val_loss: 12990808.0000 - val_mae: 3030.3821 - 34ms/epoch - 11ms/step\n",
      "Epoch 291/350\n",
      "3/3 - 0s - loss: 8082705.0000 - mae: 2141.3909 - val_loss: 18317694.0000 - val_mae: 3405.4236 - 31ms/epoch - 10ms/step\n",
      "Epoch 292/350\n",
      "3/3 - 0s - loss: 8577709.0000 - mae: 2268.1721 - val_loss: 14694609.0000 - val_mae: 3049.1289 - 26ms/epoch - 9ms/step\n",
      "Epoch 293/350\n",
      "3/3 - 0s - loss: 9610943.0000 - mae: 2326.0645 - val_loss: 21271824.0000 - val_mae: 3552.5652 - 42ms/epoch - 14ms/step\n",
      "Epoch 294/350\n",
      "3/3 - 0s - loss: 10438483.0000 - mae: 2414.0767 - val_loss: 16415195.0000 - val_mae: 3131.4863 - 29ms/epoch - 10ms/step\n",
      "Epoch 295/350\n",
      "3/3 - 0s - loss: 9618123.0000 - mae: 2330.0686 - val_loss: 17401422.0000 - val_mae: 2890.0999 - 47ms/epoch - 16ms/step\n",
      "Epoch 296/350\n",
      "3/3 - 0s - loss: 10037380.0000 - mae: 2365.8608 - val_loss: 13700720.0000 - val_mae: 3191.2578 - 40ms/epoch - 13ms/step\n",
      "Epoch 297/350\n",
      "3/3 - 0s - loss: 10711167.0000 - mae: 2626.7568 - val_loss: 14493027.0000 - val_mae: 2841.1462 - 27ms/epoch - 9ms/step\n",
      "Epoch 298/350\n",
      "3/3 - 0s - loss: 12631528.0000 - mae: 2647.8447 - val_loss: 15662781.0000 - val_mae: 3060.9043 - 50ms/epoch - 17ms/step\n",
      "Epoch 299/350\n",
      "3/3 - 0s - loss: 11913703.0000 - mae: 2683.3689 - val_loss: 17019256.0000 - val_mae: 3416.2090 - 34ms/epoch - 11ms/step\n",
      "Epoch 300/350\n",
      "3/3 - 0s - loss: 12052196.0000 - mae: 2635.4663 - val_loss: 21608006.0000 - val_mae: 3982.0244 - 32ms/epoch - 11ms/step\n",
      "Epoch 301/350\n",
      "3/3 - 0s - loss: 9527677.0000 - mae: 2365.7515 - val_loss: 11910503.0000 - val_mae: 2960.3557 - 40ms/epoch - 13ms/step\n",
      "Epoch 302/350\n",
      "3/3 - 0s - loss: 11209186.0000 - mae: 2719.0073 - val_loss: 16218493.0000 - val_mae: 3520.9343 - 40ms/epoch - 13ms/step\n",
      "Epoch 303/350\n",
      "3/3 - 0s - loss: 12490718.0000 - mae: 2748.5325 - val_loss: 11465563.0000 - val_mae: 2959.9805 - 40ms/epoch - 13ms/step\n",
      "Epoch 304/350\n",
      "3/3 - 0s - loss: 12207668.0000 - mae: 2820.9915 - val_loss: 11853643.0000 - val_mae: 2777.0227 - 40ms/epoch - 13ms/step\n",
      "Epoch 305/350\n",
      "3/3 - 0s - loss: 11970747.0000 - mae: 2768.6775 - val_loss: 20012586.0000 - val_mae: 3864.4346 - 32ms/epoch - 11ms/step\n",
      "Epoch 306/350\n",
      "3/3 - 0s - loss: 11602428.0000 - mae: 2622.6562 - val_loss: 11725275.0000 - val_mae: 2737.4180 - 50ms/epoch - 17ms/step\n",
      "Epoch 307/350\n",
      "3/3 - 0s - loss: 10677217.0000 - mae: 2541.0598 - val_loss: 13345715.0000 - val_mae: 3183.8245 - 32ms/epoch - 11ms/step\n",
      "Epoch 308/350\n",
      "3/3 - 0s - loss: 9756913.0000 - mae: 2417.5454 - val_loss: 11824461.0000 - val_mae: 2988.8464 - 33ms/epoch - 11ms/step\n",
      "Epoch 309/350\n",
      "3/3 - 0s - loss: 9250831.0000 - mae: 2358.4475 - val_loss: 11721140.0000 - val_mae: 2838.5247 - 73ms/epoch - 24ms/step\n",
      "Epoch 310/350\n",
      "3/3 - 0s - loss: 9015439.0000 - mae: 2316.5737 - val_loss: 12902405.0000 - val_mae: 3137.3430 - 36ms/epoch - 12ms/step\n"
     ]
    },
    {
     "name": "stdout",
     "output_type": "stream",
     "text": [
      "Epoch 311/350\n",
      "3/3 - 0s - loss: 12070686.0000 - mae: 2683.8660 - val_loss: 40678408.0000 - val_mae: 4486.7129 - 46ms/epoch - 15ms/step\n",
      "Epoch 312/350\n",
      "3/3 - 0s - loss: 17778756.0000 - mae: 3310.6360 - val_loss: 13024017.0000 - val_mae: 2826.6418 - 34ms/epoch - 11ms/step\n",
      "Epoch 313/350\n",
      "3/3 - 0s - loss: 9160862.0000 - mae: 2475.7261 - val_loss: 20999114.0000 - val_mae: 4013.5098 - 41ms/epoch - 14ms/step\n",
      "Epoch 314/350\n",
      "3/3 - 0s - loss: 11243130.0000 - mae: 2604.8684 - val_loss: 13172904.0000 - val_mae: 2894.9373 - 42ms/epoch - 14ms/step\n",
      "Epoch 315/350\n",
      "3/3 - 0s - loss: 10008165.0000 - mae: 2503.4263 - val_loss: 12191421.0000 - val_mae: 2922.7087 - 43ms/epoch - 14ms/step\n",
      "Epoch 316/350\n",
      "3/3 - 0s - loss: 8812710.0000 - mae: 2286.0488 - val_loss: 14654468.0000 - val_mae: 3227.0613 - 33ms/epoch - 11ms/step\n",
      "Epoch 317/350\n",
      "3/3 - 0s - loss: 8817845.0000 - mae: 2315.2888 - val_loss: 13395445.0000 - val_mae: 2993.9961 - 33ms/epoch - 11ms/step\n",
      "Epoch 318/350\n",
      "3/3 - 0s - loss: 9109344.0000 - mae: 2435.2512 - val_loss: 13248217.0000 - val_mae: 3039.4734 - 41ms/epoch - 14ms/step\n",
      "Epoch 319/350\n",
      "3/3 - 0s - loss: 8935977.0000 - mae: 2361.0710 - val_loss: 15093491.0000 - val_mae: 3145.9590 - 34ms/epoch - 11ms/step\n",
      "Epoch 320/350\n",
      "3/3 - 0s - loss: 9358847.0000 - mae: 2411.2080 - val_loss: 14866369.0000 - val_mae: 3121.6160 - 33ms/epoch - 11ms/step\n",
      "Epoch 321/350\n",
      "3/3 - 0s - loss: 8981956.0000 - mae: 2370.5022 - val_loss: 14647909.0000 - val_mae: 3122.5730 - 33ms/epoch - 11ms/step\n",
      "Epoch 322/350\n",
      "3/3 - 0s - loss: 9805433.0000 - mae: 2464.9915 - val_loss: 16645464.0000 - val_mae: 3319.7102 - 34ms/epoch - 11ms/step\n",
      "Epoch 323/350\n",
      "3/3 - 0s - loss: 9410436.0000 - mae: 2465.9338 - val_loss: 17580352.0000 - val_mae: 3511.9763 - 33ms/epoch - 11ms/step\n",
      "Epoch 324/350\n",
      "3/3 - 0s - loss: 9758523.0000 - mae: 2494.1501 - val_loss: 15219368.0000 - val_mae: 3021.8923 - 36ms/epoch - 12ms/step\n",
      "Epoch 325/350\n",
      "3/3 - 0s - loss: 9266413.0000 - mae: 2426.5439 - val_loss: 14446285.0000 - val_mae: 3029.6072 - 33ms/epoch - 11ms/step\n",
      "Epoch 326/350\n",
      "3/3 - 0s - loss: 9945572.0000 - mae: 2524.6975 - val_loss: 12892259.0000 - val_mae: 2933.1980 - 38ms/epoch - 13ms/step\n",
      "Epoch 327/350\n",
      "3/3 - 0s - loss: 10289468.0000 - mae: 2541.2590 - val_loss: 14325327.0000 - val_mae: 3035.1853 - 37ms/epoch - 12ms/step\n",
      "Epoch 328/350\n",
      "3/3 - 0s - loss: 10151465.0000 - mae: 2509.2722 - val_loss: 14744525.0000 - val_mae: 3221.5481 - 33ms/epoch - 11ms/step\n",
      "Epoch 329/350\n",
      "3/3 - 0s - loss: 9928607.0000 - mae: 2507.6594 - val_loss: 12609483.0000 - val_mae: 2836.8547 - 33ms/epoch - 11ms/step\n",
      "Epoch 330/350\n",
      "3/3 - 0s - loss: 9673875.0000 - mae: 2445.6553 - val_loss: 11985633.0000 - val_mae: 3004.5730 - 42ms/epoch - 14ms/step\n",
      "Epoch 331/350\n",
      "3/3 - 0s - loss: 10471688.0000 - mae: 2626.4385 - val_loss: 11591524.0000 - val_mae: 2836.7869 - 39ms/epoch - 13ms/step\n",
      "Epoch 332/350\n",
      "3/3 - 0s - loss: 11567307.0000 - mae: 2644.2610 - val_loss: 13016336.0000 - val_mae: 2752.7083 - 36ms/epoch - 12ms/step\n",
      "Epoch 333/350\n",
      "3/3 - 0s - loss: 10638539.0000 - mae: 2561.4297 - val_loss: 14800101.0000 - val_mae: 3434.1692 - 42ms/epoch - 14ms/step\n",
      "Epoch 334/350\n",
      "3/3 - 0s - loss: 10987057.0000 - mae: 2746.8367 - val_loss: 12410264.0000 - val_mae: 2721.5088 - 35ms/epoch - 12ms/step\n",
      "Epoch 335/350\n",
      "3/3 - 0s - loss: 10522828.0000 - mae: 2524.2122 - val_loss: 11397628.0000 - val_mae: 2731.3640 - 40ms/epoch - 13ms/step\n",
      "Epoch 336/350\n",
      "3/3 - 0s - loss: 9406687.0000 - mae: 2483.2986 - val_loss: 11368281.0000 - val_mae: 2940.3499 - 41ms/epoch - 14ms/step\n",
      "Epoch 337/350\n",
      "3/3 - 0s - loss: 9897404.0000 - mae: 2573.6531 - val_loss: 10736583.0000 - val_mae: 2663.7385 - 34ms/epoch - 11ms/step\n",
      "Epoch 338/350\n",
      "3/3 - 0s - loss: 9448696.0000 - mae: 2467.9646 - val_loss: 10752465.0000 - val_mae: 2532.7368 - 33ms/epoch - 11ms/step\n",
      "Epoch 339/350\n",
      "3/3 - 0s - loss: 9390703.0000 - mae: 2451.2705 - val_loss: 10330867.0000 - val_mae: 2659.0999 - 33ms/epoch - 11ms/step\n",
      "Epoch 340/350\n",
      "3/3 - 0s - loss: 9955238.0000 - mae: 2558.9158 - val_loss: 10045047.0000 - val_mae: 2642.1526 - 43ms/epoch - 14ms/step\n",
      "Epoch 341/350\n",
      "3/3 - 0s - loss: 9091547.0000 - mae: 2415.8289 - val_loss: 11404379.0000 - val_mae: 2637.9141 - 33ms/epoch - 11ms/step\n",
      "Epoch 342/350\n",
      "3/3 - 0s - loss: 9504762.0000 - mae: 2419.0347 - val_loss: 10642432.0000 - val_mae: 2714.1997 - 41ms/epoch - 14ms/step\n",
      "Epoch 343/350\n",
      "3/3 - 0s - loss: 9668126.0000 - mae: 2494.5195 - val_loss: 10564312.0000 - val_mae: 2828.0940 - 33ms/epoch - 11ms/step\n",
      "Epoch 344/350\n",
      "3/3 - 0s - loss: 9346255.0000 - mae: 2460.8364 - val_loss: 10636305.0000 - val_mae: 2560.1670 - 42ms/epoch - 14ms/step\n",
      "Epoch 345/350\n",
      "3/3 - 0s - loss: 9502290.0000 - mae: 2402.5916 - val_loss: 10134822.0000 - val_mae: 2669.0659 - 33ms/epoch - 11ms/step\n",
      "Epoch 346/350\n",
      "3/3 - 0s - loss: 9060569.0000 - mae: 2447.0825 - val_loss: 10566069.0000 - val_mae: 2804.0361 - 33ms/epoch - 11ms/step\n",
      "Epoch 347/350\n",
      "3/3 - 0s - loss: 9277026.0000 - mae: 2422.1003 - val_loss: 10201928.0000 - val_mae: 2478.9539 - 41ms/epoch - 14ms/step\n",
      "Epoch 348/350\n",
      "3/3 - 0s - loss: 9030329.0000 - mae: 2390.8752 - val_loss: 10051656.0000 - val_mae: 2598.3120 - 38ms/epoch - 13ms/step\n",
      "Epoch 349/350\n",
      "3/3 - 0s - loss: 8947479.0000 - mae: 2389.5464 - val_loss: 10077410.0000 - val_mae: 2618.5044 - 33ms/epoch - 11ms/step\n",
      "Epoch 350/350\n",
      "3/3 - 0s - loss: 9178971.0000 - mae: 2429.6421 - val_loss: 9993960.0000 - val_mae: 2625.3982 - 30ms/epoch - 10ms/step\n",
      "MSE: 9993960.000, RMSE: 3161.323, MAE: 2625.398\n"
     ]
    }
   ],
   "source": [
    "# fit the model\n",
    "model.fit(X_train, y_train, epochs=350, batch_size=32, verbose=2, validation_data=(X_test, y_test))\n",
    "# evaluate the model\n",
    "mse, mae = model.evaluate(X_test, y_test, verbose=0)\n",
    "print('MSE: %.3f, RMSE: %.3f, MAE: %.3f' % (mse, sqrt(mse), mae))"
   ]
  },
  {
   "cell_type": "code",
   "execution_count": null,
   "metadata": {},
   "outputs": [],
   "source": [
    "# make a prediction\n",
    "row = asarray([18024.0, 16722.0, 14385.0, 21342.0, 17180.0]).reshape((1, n_steps, 1))\n",
    "yhat = model.predict(row)\n",
    "print('Predicted: %.3f' % (yhat))"
   ]
  },
  {
   "cell_type": "markdown",
   "metadata": {},
   "source": [
    "# Visualizing a Model"
   ]
  },
  {
   "cell_type": "code",
   "execution_count": 17,
   "metadata": {},
   "outputs": [
    {
     "name": "stdout",
     "output_type": "stream",
     "text": [
      "Model: \"sequential_5\"\n",
      "_________________________________________________________________\n",
      " Layer (type)                Output Shape              Param #   \n",
      "=================================================================\n",
      " dense_14 (Dense)            (None, 10)                90        \n",
      "                                                                 \n",
      " dense_15 (Dense)            (None, 8)                 88        \n",
      "                                                                 \n",
      " dense_16 (Dense)            (None, 1)                 9         \n",
      "                                                                 \n",
      "=================================================================\n",
      "Total params: 187\n",
      "Trainable params: 187\n",
      "Non-trainable params: 0\n",
      "_________________________________________________________________\n"
     ]
    }
   ],
   "source": [
    "# example of summarizing a model\n",
    "from tensorflow.keras import Sequential\n",
    "from tensorflow.keras.layers import Dense\n",
    "# define model\n",
    "model = Sequential()\n",
    "model.add(Dense(10, activation='relu', kernel_initializer='he_normal', input_shape=(8,)))\n",
    "model.add(Dense(8, activation='relu', kernel_initializer='he_normal'))\n",
    "model.add(Dense(1, activation='sigmoid'))\n",
    "# summarize the model\n",
    "model.summary()"
   ]
  },
  {
   "cell_type": "code",
   "execution_count": 18,
   "metadata": {},
   "outputs": [
    {
     "name": "stdout",
     "output_type": "stream",
     "text": [
      "You must install pydot (`pip install pydot`) and install graphviz (see instructions at https://graphviz.gitlab.io/download/) for plot_model/model_to_dot to work.\n"
     ]
    }
   ],
   "source": [
    "# example of plotting a model\n",
    "from tensorflow.keras import Sequential\n",
    "from tensorflow.keras.layers import Dense\n",
    "from tensorflow.keras.utils import plot_model\n",
    "# define model\n",
    "model = Sequential()\n",
    "model.add(Dense(10, activation='relu', kernel_initializer='he_normal', input_shape=(8,)))\n",
    "model.add(Dense(8, activation='relu', kernel_initializer='he_normal'))\n",
    "model.add(Dense(1, activation='sigmoid'))\n",
    "# summarize the model\n",
    "plot_model(model, 'model.png', show_shapes=True)"
   ]
  },
  {
   "cell_type": "markdown",
   "metadata": {},
   "source": [
    "# Plotting Model Learning Curves"
   ]
  },
  {
   "cell_type": "code",
   "execution_count": 20,
   "metadata": {},
   "outputs": [],
   "source": [
    "# example of plotting learning curves\n",
    "from sklearn.datasets import make_classification\n",
    "from tensorflow.keras import Sequential\n",
    "from tensorflow.keras.layers import Dense\n",
    "from tensorflow.keras.optimizers import SGD\n",
    "from matplotlib import pyplot"
   ]
  },
  {
   "cell_type": "code",
   "execution_count": 21,
   "metadata": {},
   "outputs": [],
   "source": [
    "# create the dataset\n",
    "X, y = make_classification(n_samples=1000, n_classes=2, random_state=1)\n",
    "# determine the number of input features\n",
    "n_features = X.shape[1]"
   ]
  },
  {
   "cell_type": "code",
   "execution_count": 22,
   "metadata": {},
   "outputs": [],
   "source": [
    "# define model\n",
    "model = Sequential()\n",
    "model.add(Dense(10, activation='relu', kernel_initializer='he_normal', input_shape=(n_features,)))\n",
    "model.add(Dense(1, activation='sigmoid'))\n",
    "# compile the model\n",
    "sgd = SGD(learning_rate=0.001, momentum=0.8)\n",
    "model.compile(optimizer=sgd, loss='binary_crossentropy')"
   ]
  },
  {
   "cell_type": "code",
   "execution_count": 23,
   "metadata": {},
   "outputs": [],
   "source": [
    "# fit the model\n",
    "history = model.fit(X, y, epochs=100, batch_size=32, verbose=0, validation_split=0.3)"
   ]
  },
  {
   "cell_type": "code",
   "execution_count": 24,
   "metadata": {},
   "outputs": [
    {
     "data": {
      "image/png": "[encoded data removed]",
      "text/plain": [
       "<Figure size 432x288 with 1 Axes>"
      ]
     },
     "metadata": {
      "needs_background": "light"
     },
     "output_type": "display_data"
    }
   ],
   "source": [
    "# plot learning curves\n",
    "pyplot.title('Learning Curves')\n",
    "pyplot.xlabel('Epoch')\n",
    "pyplot.ylabel('Cross Entropy')\n",
    "pyplot.plot(history.history['loss'], label='train')\n",
    "pyplot.plot(history.history['val_loss'], label='val')\n",
    "pyplot.legend()\n",
    "pyplot.show()"
   ]
  },
  {
   "cell_type": "markdown",
   "metadata": {},
   "source": [
    "# Saving Your Model"
   ]
  },
  {
   "cell_type": "code",
   "execution_count": 25,
   "metadata": {},
   "outputs": [
    {
     "name": "stdout",
     "output_type": "stream",
     "text": [
      "Requirement already satisfied: h5py in c:\\users\\trevo\\anaconda3\\lib\\site-packages (2.10.0)\n",
      "Requirement already satisfied: six in c:\\users\\trevo\\anaconda3\\lib\\site-packages (from h5py) (1.16.0)\n",
      "Requirement already satisfied: numpy>=1.7 in c:\\users\\trevo\\anaconda3\\lib\\site-packages (from h5py) (1.21.5)\n",
      "Note: you may need to restart the kernel to use updated packages.\n"
     ]
    }
   ],
   "source": [
    "pip install h5py"
   ]
  },
  {
   "cell_type": "code",
   "execution_count": 26,
   "metadata": {},
   "outputs": [
    {
     "data": {
      "text/plain": [
       "<keras.callbacks.History at 0x1f0f883a648>"
      ]
     },
     "execution_count": 26,
     "metadata": {},
     "output_type": "execute_result"
    }
   ],
   "source": [
    "# example of saving a fit model\n",
    "from sklearn.datasets import make_classification\n",
    "from tensorflow.keras import Sequential\n",
    "from tensorflow.keras.layers import Dense\n",
    "from tensorflow.keras.optimizers import SGD\n",
    "# create the dataset\n",
    "X, y = make_classification(n_samples=1000, n_features=4, n_classes=2, random_state=1)\n",
    "# determine the number of input features\n",
    "n_features = X.shape[1]\n",
    "# define model\n",
    "model = Sequential()\n",
    "model.add(Dense(10, activation='relu', kernel_initializer='he_normal', input_shape=(n_features,)))\n",
    "model.add(Dense(1, activation='sigmoid'))\n",
    "# compile the model\n",
    "sgd = SGD(learning_rate=0.001, momentum=0.8)\n",
    "model.compile(optimizer=sgd, loss='binary_crossentropy')\n",
    "# fit the model\n",
    "model.fit(X, y, epochs=100, batch_size=32, verbose=0, validation_split=0.3)"
   ]
  },
  {
   "cell_type": "code",
   "execution_count": 27,
   "metadata": {},
   "outputs": [],
   "source": [
    "# save model to file\n",
    "model.save('model.h5')"
   ]
  },
  {
   "cell_type": "markdown",
   "metadata": {},
   "source": [
    "# How to Get Better Model Performance\n",
    "\n",
    "1. Reduce overfitting by dropping outputs between layers. Ex:\n",
    "model.add(Dense(10, activation='relu', kernel_initializer='he_normal', input_shape=(n_features,)))\n",
    "model.add(Dropout(0.5))\n",
    "model.add(Dense(1, activation='sigmoid'))\n",
    "\n",
    "2. Add batch normalization to standardize inputs. Reduces number of epochs needed to train model. Ex:\n",
    "model.add(Dense(10, activation='relu', kernel_initializer='he_normal', input_shape=(n_features,)))\n",
    "model.add(BatchNormalization())\n",
    "model.add(Dense(1, activation='sigmoid'))\n",
    "\n",
    "3. Early stopping allows you to stop training a model when there are signs of overfitting. Ex:\n",
    "#configure early stopping\n",
    "es = EarlyStopping(monitor='val_loss', patience=5)\n",
    "#fit the model\n",
    "history = model.fit(X, y, epochs=200, batch_size=32, verbose=0, validation_split=0.3, callbacks=[es])"
   ]
  }
 ],
 "metadata": {
  "kernelspec": {
   "display_name": "Python 3 (ipykernel)",
   "language": "python",
   "name": "python3"
  },
  "language_info": {
   "codemirror_mode": {
    "name": "ipython",
    "version": 3
   },
   "file_extension": ".py",
   "mimetype": "text/x-python",
   "name": "python",
   "nbconvert_exporter": "python",
   "pygments_lexer": "ipython3",
   "version": "3.9.12"
  }
 },
 "nbformat": 4,
 "nbformat_minor": 2
}
